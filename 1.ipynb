{
 "cells": [
  {
   "cell_type": "code",
   "execution_count": 1,
   "metadata": {},
   "outputs": [],
   "source": [
    "import tensorflow as tf\n",
    "try: [tf.config.experimental.set_memory_growth(gpu,True) for gpu in tf.config.list_physical_devices('GPU')]\n",
    "except: pass\n",
    "\n",
    "from keras.callbacks import EarlyStopping, ModelCheckpoint, ReduceLROnPlateau,TensorBoard\n",
    "from mltu.dataProvider import DataProvider\n",
    "from mltu.preprocessors import ImageReader\n",
    "from mltu.transformers import ImageResizer, LabelIndexer,LabelPadding\n",
    "from mltu.augmentors import RandomBrightness, RandomRotate,RandomErodeDilate\n",
    "from mltu.losses import CTCloss\n",
    "from mltu.callbacks import Model2onnx,TrainLogger\n",
    "from mltu.metrics import CWERMetric\n",
    "from model import train_model\n",
    "from configs import ModelConfigs\n",
    "import stow\n",
    "from urllib.request import urlopen\n",
    "from io import BytesIO\n",
    "from zipfile import ZipFile"
   ]
  },
  {
   "cell_type": "code",
   "execution_count": 2,
   "metadata": {},
   "outputs": [],
   "source": [
    "def download_and_unzip(url,extract_to='Datasets'):\n",
    "    http_respose=urlopen(url)\n",
    "    zipfile=ZipFile(BytesIO(http_respose.read()))\n",
    "    zipfile.extractall(path=extract_to)\n",
    "\n",
    "if not stow.exists(stow.join('Datasets','captcha_images_v2')):\n",
    "    download_and_unzip('https://github.com/AakashKumarNain/CaptchaCracker/raw/master/captcha_images_v2.zip')\n"
   ]
  },
  {
   "cell_type": "code",
   "execution_count": 13,
   "metadata": {},
   "outputs": [],
   "source": [
    "dataset, vocab, max_len = [], set(), 0\n",
    "for file in stow.ls(stow.join('Datasets', 'captcha_images_v2')):\n",
    "    dataset.append([stow.relpath(file), file.name])\n",
    "    vocab.update(list(file.name))\n",
    "    max_len = max(max_len, len(file.name))"
   ]
  },
  {
   "cell_type": "code",
   "execution_count": 14,
   "metadata": {},
   "outputs": [],
   "source": [
    "\n",
    "configs = ModelConfigs()\n",
    "\n",
    "# Save vocab and maximum text length to configs\n",
    "configs.vocab = \"\".join(vocab)\n",
    "configs.max_text_length = max_len\n",
    "configs.save()\n"
   ]
  },
  {
   "cell_type": "code",
   "execution_count": 15,
   "metadata": {},
   "outputs": [
    {
     "name": "stderr",
     "output_type": "stream",
     "text": [
      "2024-06-22 16:39:24,879 INFO mltu.dataProvider: Skipping Dataset validation...\n"
     ]
    }
   ],
   "source": [
    "data_provider = DataProvider(\n",
    "    dataset=dataset,\n",
    "    skip_validation=True,\n",
    "    batch_size=configs.batch_size,\n",
    "    data_preprocessors=[ImageReader()],\n",
    "    transformers=[\n",
    "        ImageResizer(configs.width, configs.height),\n",
    "        LabelIndexer(configs.vocab),\n",
    "        LabelPadding(max_word_length=configs.max_text_length, padding_value=len(configs.vocab))\n",
    "        ],\n",
    ")"
   ]
  },
  {
   "cell_type": "code",
   "execution_count": 16,
   "metadata": {},
   "outputs": [],
   "source": [
    "train_data_provider,val_data_provider=data_provider.split(split=0.9\n",
    "                                                          )\n",
    "train_data_provider.augmentors=[RandomBrightness(),RandomRotate(),RandomErodeDilate()]\n",
    "model=train_model(\n",
    "    input_dim=(configs.height,configs.width,3),\n",
    "    output_dim=len(configs.vocab),)"
   ]
  },
  {
   "cell_type": "code",
   "execution_count": 17,
   "metadata": {},
   "outputs": [],
   "source": [
    "model.compile(\n",
    "    optimizer=tf.keras.optimizers.Adam(learning_rate=configs.learning_rate), \n",
    "    loss=CTCloss(), \n",
    "    metrics=[CWERMetric()],\n",
    ")\n"
   ]
  },
  {
   "cell_type": "code",
   "execution_count": 18,
   "metadata": {},
   "outputs": [
    {
     "name": "stdout",
     "output_type": "stream",
     "text": [
      "Model: \"model_1\"\n",
      "______________________________________________________________________________________________________________\n",
      " Layer (type)                       Output Shape            Param #      Connected to                         \n",
      "==============================================================================================================\n",
      " input (InputLayer)                 [(None, 50, 200, 3)]    0            []                                   \n",
      "                                                                                                              \n",
      " lambda_1 (Lambda)                  (None, 50, 200, 3)      0            ['input[0][0]']                      \n",
      "                                                                                                              \n",
      " conv2d_24 (Conv2D)                 (None, 50, 200, 16)     448          ['lambda_1[0][0]']                   \n",
      "                                                                                                              \n",
      " batch_normalization_18 (BatchNorma  (None, 50, 200, 16)    64           ['conv2d_24[0][0]']                  \n",
      " lization)                                                                                                    \n",
      "                                                                                                              \n",
      " leaky_re_lu_18 (LeakyReLU)         (None, 50, 200, 16)     0            ['batch_normalization_18[0][0]']     \n",
      "                                                                                                              \n",
      " conv2d_25 (Conv2D)                 (None, 50, 200, 16)     2320         ['leaky_re_lu_18[0][0]']             \n",
      "                                                                                                              \n",
      " batch_normalization_19 (BatchNorma  (None, 50, 200, 16)    64           ['conv2d_25[0][0]']                  \n",
      " lization)                                                                                                    \n",
      "                                                                                                              \n",
      " conv2d_26 (Conv2D)                 (None, 50, 200, 16)     64           ['lambda_1[0][0]']                   \n",
      "                                                                                                              \n",
      " add_9 (Add)                        (None, 50, 200, 16)     0            ['batch_normalization_19[0][0]',     \n",
      "                                                                          'conv2d_26[0][0]']                  \n",
      "                                                                                                              \n",
      " leaky_re_lu_19 (LeakyReLU)         (None, 50, 200, 16)     0            ['add_9[0][0]']                      \n",
      "                                                                                                              \n",
      " dropout_10 (Dropout)               (None, 50, 200, 16)     0            ['leaky_re_lu_19[0][0]']             \n",
      "                                                                                                              \n",
      " conv2d_27 (Conv2D)                 (None, 25, 100, 16)     2320         ['dropout_10[0][0]']                 \n",
      "                                                                                                              \n",
      " batch_normalization_20 (BatchNorma  (None, 25, 100, 16)    64           ['conv2d_27[0][0]']                  \n",
      " lization)                                                                                                    \n",
      "                                                                                                              \n",
      " leaky_re_lu_20 (LeakyReLU)         (None, 25, 100, 16)     0            ['batch_normalization_20[0][0]']     \n",
      "                                                                                                              \n",
      " conv2d_28 (Conv2D)                 (None, 25, 100, 16)     2320         ['leaky_re_lu_20[0][0]']             \n",
      "                                                                                                              \n",
      " batch_normalization_21 (BatchNorma  (None, 25, 100, 16)    64           ['conv2d_28[0][0]']                  \n",
      " lization)                                                                                                    \n",
      "                                                                                                              \n",
      " conv2d_29 (Conv2D)                 (None, 25, 100, 16)     272          ['dropout_10[0][0]']                 \n",
      "                                                                                                              \n",
      " add_10 (Add)                       (None, 25, 100, 16)     0            ['batch_normalization_21[0][0]',     \n",
      "                                                                          'conv2d_29[0][0]']                  \n",
      "                                                                                                              \n",
      " leaky_re_lu_21 (LeakyReLU)         (None, 25, 100, 16)     0            ['add_10[0][0]']                     \n",
      "                                                                                                              \n",
      " dropout_11 (Dropout)               (None, 25, 100, 16)     0            ['leaky_re_lu_21[0][0]']             \n",
      "                                                                                                              \n",
      " conv2d_30 (Conv2D)                 (None, 25, 100, 16)     2320         ['dropout_11[0][0]']                 \n",
      "                                                                                                              \n",
      " batch_normalization_22 (BatchNorma  (None, 25, 100, 16)    64           ['conv2d_30[0][0]']                  \n",
      " lization)                                                                                                    \n",
      "                                                                                                              \n",
      " leaky_re_lu_22 (LeakyReLU)         (None, 25, 100, 16)     0            ['batch_normalization_22[0][0]']     \n",
      "                                                                                                              \n",
      " conv2d_31 (Conv2D)                 (None, 25, 100, 16)     2320         ['leaky_re_lu_22[0][0]']             \n",
      "                                                                                                              \n",
      " batch_normalization_23 (BatchNorma  (None, 25, 100, 16)    64           ['conv2d_31[0][0]']                  \n",
      " lization)                                                                                                    \n",
      "                                                                                                              \n",
      " add_11 (Add)                       (None, 25, 100, 16)     0            ['batch_normalization_23[0][0]',     \n",
      "                                                                          'dropout_11[0][0]']                 \n",
      "                                                                                                              \n",
      " leaky_re_lu_23 (LeakyReLU)         (None, 25, 100, 16)     0            ['add_11[0][0]']                     \n",
      "                                                                                                              \n",
      " dropout_12 (Dropout)               (None, 25, 100, 16)     0            ['leaky_re_lu_23[0][0]']             \n",
      "                                                                                                              \n",
      " conv2d_32 (Conv2D)                 (None, 13, 50, 32)      4640         ['dropout_12[0][0]']                 \n",
      "                                                                                                              \n",
      " batch_normalization_24 (BatchNorma  (None, 13, 50, 32)     128          ['conv2d_32[0][0]']                  \n",
      " lization)                                                                                                    \n",
      "                                                                                                              \n",
      " leaky_re_lu_24 (LeakyReLU)         (None, 13, 50, 32)      0            ['batch_normalization_24[0][0]']     \n",
      "                                                                                                              \n",
      " conv2d_33 (Conv2D)                 (None, 13, 50, 32)      9248         ['leaky_re_lu_24[0][0]']             \n",
      "                                                                                                              \n",
      " batch_normalization_25 (BatchNorma  (None, 13, 50, 32)     128          ['conv2d_33[0][0]']                  \n",
      " lization)                                                                                                    \n",
      "                                                                                                              \n",
      " conv2d_34 (Conv2D)                 (None, 13, 50, 32)      544          ['dropout_12[0][0]']                 \n",
      "                                                                                                              \n",
      " add_12 (Add)                       (None, 13, 50, 32)      0            ['batch_normalization_25[0][0]',     \n",
      "                                                                          'conv2d_34[0][0]']                  \n",
      "                                                                                                              \n",
      " leaky_re_lu_25 (LeakyReLU)         (None, 13, 50, 32)      0            ['add_12[0][0]']                     \n",
      "                                                                                                              \n",
      " dropout_13 (Dropout)               (None, 13, 50, 32)      0            ['leaky_re_lu_25[0][0]']             \n",
      "                                                                                                              \n",
      " conv2d_35 (Conv2D)                 (None, 13, 50, 32)      9248         ['dropout_13[0][0]']                 \n",
      "                                                                                                              \n",
      " batch_normalization_26 (BatchNorma  (None, 13, 50, 32)     128          ['conv2d_35[0][0]']                  \n",
      " lization)                                                                                                    \n",
      "                                                                                                              \n",
      " leaky_re_lu_26 (LeakyReLU)         (None, 13, 50, 32)      0            ['batch_normalization_26[0][0]']     \n",
      "                                                                                                              \n",
      " conv2d_36 (Conv2D)                 (None, 13, 50, 32)      9248         ['leaky_re_lu_26[0][0]']             \n",
      "                                                                                                              \n",
      " batch_normalization_27 (BatchNorma  (None, 13, 50, 32)     128          ['conv2d_36[0][0]']                  \n",
      " lization)                                                                                                    \n",
      "                                                                                                              \n",
      " add_13 (Add)                       (None, 13, 50, 32)      0            ['batch_normalization_27[0][0]',     \n",
      "                                                                          'dropout_13[0][0]']                 \n",
      "                                                                                                              \n",
      " leaky_re_lu_27 (LeakyReLU)         (None, 13, 50, 32)      0            ['add_13[0][0]']                     \n",
      "                                                                                                              \n",
      " dropout_14 (Dropout)               (None, 13, 50, 32)      0            ['leaky_re_lu_27[0][0]']             \n",
      "                                                                                                              \n",
      " conv2d_37 (Conv2D)                 (None, 7, 25, 64)       18496        ['dropout_14[0][0]']                 \n",
      "                                                                                                              \n",
      " batch_normalization_28 (BatchNorma  (None, 7, 25, 64)      256          ['conv2d_37[0][0]']                  \n",
      " lization)                                                                                                    \n",
      "                                                                                                              \n",
      " leaky_re_lu_28 (LeakyReLU)         (None, 7, 25, 64)       0            ['batch_normalization_28[0][0]']     \n",
      "                                                                                                              \n",
      " conv2d_38 (Conv2D)                 (None, 7, 25, 64)       36928        ['leaky_re_lu_28[0][0]']             \n",
      "                                                                                                              \n",
      " batch_normalization_29 (BatchNorma  (None, 7, 25, 64)      256          ['conv2d_38[0][0]']                  \n",
      " lization)                                                                                                    \n",
      "                                                                                                              \n",
      " conv2d_39 (Conv2D)                 (None, 7, 25, 64)       2112         ['dropout_14[0][0]']                 \n",
      "                                                                                                              \n",
      " add_14 (Add)                       (None, 7, 25, 64)       0            ['batch_normalization_29[0][0]',     \n",
      "                                                                          'conv2d_39[0][0]']                  \n",
      "                                                                                                              \n",
      " leaky_re_lu_29 (LeakyReLU)         (None, 7, 25, 64)       0            ['add_14[0][0]']                     \n",
      "                                                                                                              \n",
      " dropout_15 (Dropout)               (None, 7, 25, 64)       0            ['leaky_re_lu_29[0][0]']             \n",
      "                                                                                                              \n",
      " conv2d_40 (Conv2D)                 (None, 7, 25, 32)       18464        ['dropout_15[0][0]']                 \n",
      "                                                                                                              \n",
      " batch_normalization_30 (BatchNorma  (None, 7, 25, 32)      128          ['conv2d_40[0][0]']                  \n",
      " lization)                                                                                                    \n",
      "                                                                                                              \n",
      " leaky_re_lu_30 (LeakyReLU)         (None, 7, 25, 32)       0            ['batch_normalization_30[0][0]']     \n",
      "                                                                                                              \n",
      " conv2d_41 (Conv2D)                 (None, 7, 25, 32)       9248         ['leaky_re_lu_30[0][0]']             \n",
      "                                                                                                              \n",
      " batch_normalization_31 (BatchNorma  (None, 7, 25, 32)      128          ['conv2d_41[0][0]']                  \n",
      " lization)                                                                                                    \n",
      "                                                                                                              \n",
      " conv2d_42 (Conv2D)                 (None, 7, 25, 32)       2080         ['dropout_15[0][0]']                 \n",
      "                                                                                                              \n",
      " add_15 (Add)                       (None, 7, 25, 32)       0            ['batch_normalization_31[0][0]',     \n",
      "                                                                          'conv2d_42[0][0]']                  \n",
      "                                                                                                              \n",
      " leaky_re_lu_31 (LeakyReLU)         (None, 7, 25, 32)       0            ['add_15[0][0]']                     \n",
      "                                                                                                              \n",
      " dropout_16 (Dropout)               (None, 7, 25, 32)       0            ['leaky_re_lu_31[0][0]']             \n",
      "                                                                                                              \n",
      " conv2d_43 (Conv2D)                 (None, 4, 13, 64)       18496        ['dropout_16[0][0]']                 \n",
      "                                                                                                              \n",
      " batch_normalization_32 (BatchNorma  (None, 4, 13, 64)      256          ['conv2d_43[0][0]']                  \n",
      " lization)                                                                                                    \n",
      "                                                                                                              \n",
      " leaky_re_lu_32 (LeakyReLU)         (None, 4, 13, 64)       0            ['batch_normalization_32[0][0]']     \n",
      "                                                                                                              \n",
      " conv2d_44 (Conv2D)                 (None, 4, 13, 64)       36928        ['leaky_re_lu_32[0][0]']             \n",
      "                                                                                                              \n",
      " batch_normalization_33 (BatchNorma  (None, 4, 13, 64)      256          ['conv2d_44[0][0]']                  \n",
      " lization)                                                                                                    \n",
      "                                                                                                              \n",
      " conv2d_45 (Conv2D)                 (None, 4, 13, 64)       2112         ['dropout_16[0][0]']                 \n",
      "                                                                                                              \n",
      " add_16 (Add)                       (None, 4, 13, 64)       0            ['batch_normalization_33[0][0]',     \n",
      "                                                                          'conv2d_45[0][0]']                  \n",
      "                                                                                                              \n",
      " leaky_re_lu_33 (LeakyReLU)         (None, 4, 13, 64)       0            ['add_16[0][0]']                     \n",
      "                                                                                                              \n",
      " dropout_17 (Dropout)               (None, 4, 13, 64)       0            ['leaky_re_lu_33[0][0]']             \n",
      "                                                                                                              \n",
      " conv2d_46 (Conv2D)                 (None, 4, 13, 64)       36928        ['dropout_17[0][0]']                 \n",
      "                                                                                                              \n",
      " batch_normalization_34 (BatchNorma  (None, 4, 13, 64)      256          ['conv2d_46[0][0]']                  \n",
      " lization)                                                                                                    \n",
      "                                                                                                              \n",
      " leaky_re_lu_34 (LeakyReLU)         (None, 4, 13, 64)       0            ['batch_normalization_34[0][0]']     \n",
      "                                                                                                              \n",
      " conv2d_47 (Conv2D)                 (None, 4, 13, 64)       36928        ['leaky_re_lu_34[0][0]']             \n",
      "                                                                                                              \n",
      " batch_normalization_35 (BatchNorma  (None, 4, 13, 64)      256          ['conv2d_47[0][0]']                  \n",
      " lization)                                                                                                    \n",
      "                                                                                                              \n",
      " add_17 (Add)                       (None, 4, 13, 64)       0            ['batch_normalization_35[0][0]',     \n",
      "                                                                          'dropout_17[0][0]']                 \n",
      "                                                                                                              \n",
      " leaky_re_lu_35 (LeakyReLU)         (None, 4, 13, 64)       0            ['add_17[0][0]']                     \n",
      "                                                                                                              \n",
      " dropout_18 (Dropout)               (None, 4, 13, 64)       0            ['leaky_re_lu_35[0][0]']             \n",
      "                                                                                                              \n",
      " reshape_1 (Reshape)                (None, 52, 64)          0            ['dropout_18[0][0]']                 \n",
      "                                                                                                              \n",
      " bidirectional_1 (Bidirectional)    (None, 52, 256)         197632       ['reshape_1[0][0]']                  \n",
      "                                                                                                              \n",
      " dropout_19 (Dropout)               (None, 52, 256)         0            ['bidirectional_1[0][0]']            \n",
      "                                                                                                              \n",
      " output (Dense)                     (None, 52, 20)          5140         ['dropout_19[0][0]']                 \n",
      "                                                                                                              \n",
      "==============================================================================================================\n",
      "Total params: 469,492\n",
      "Trainable params: 468,148\n",
      "Non-trainable params: 1,344\n",
      "______________________________________________________________________________________________________________\n"
     ]
    },
    {
     "data": {
      "text/plain": [
       "<stow.Directory: \\Users\\darre\\OneDrive\\Desktop\\Darren\\College Stuff\\Image Captcha recognition\\Models\\02_captcha_to_text\\202406221639>"
      ]
     },
     "execution_count": 18,
     "metadata": {},
     "output_type": "execute_result"
    }
   ],
   "source": [
    "model.summary(line_length=110)\n",
    "stow.mkdir(configs.model_path)"
   ]
  },
  {
   "cell_type": "code",
   "execution_count": 19,
   "metadata": {},
   "outputs": [],
   "source": [
    "earlystopper = EarlyStopping(monitor='val_CER', patience=40, verbose=1)\n",
    "checkpoint = ModelCheckpoint(f\"{configs.model_path}/model.h5\", monitor='val_CER', verbose=1, save_best_only=True, mode='min')\n",
    "trainLogger = TrainLogger(configs.model_path)\n",
    "tb_callback = TensorBoard(f'{configs.model_path}/logs', update_freq=1)\n",
    "reduceLROnPlat = ReduceLROnPlateau(monitor='val_CER', factor=0.9, min_delta=1e-10, patience=20, verbose=1, mode='auto')\n",
    "model2onnx = Model2onnx(f\"{configs.model_path}/model.h5\")"
   ]
  },
  {
   "cell_type": "code",
   "execution_count": 23,
   "metadata": {},
   "outputs": [
    {
     "name": "stdout",
     "output_type": "stream",
     "text": [
      "Epoch 1/1000\n",
      "15/15 [==============================] - ETA: 0s - loss: 0.1615 - CER: 0.0094 - WER: 0.0470\n",
      "Epoch 1: val_CER did not improve from 0.01346\n"
     ]
    },
    {
     "name": "stderr",
     "output_type": "stream",
     "text": [
      "2024-06-22 18:27:43,553 INFO root: Epoch 0; loss: 0.16152510046958923; CER: 0.009188035503029823; WER: 0.044871795922517776; val_loss: 0.5801244974136353; val_CER: 0.023076923564076424; val_WER: 0.10576923191547394\n"
     ]
    },
    {
     "name": "stdout",
     "output_type": "stream",
     "text": [
      "15/15 [==============================] - 30s 2s/step - loss: 0.1615 - CER: 0.0094 - WER: 0.0469 - val_loss: 0.5801 - val_CER: 0.0231 - val_WER: 0.1058 - lr: 7.2900e-04\n",
      "Epoch 2/1000\n",
      "15/15 [==============================] - ETA: 0s - loss: 0.1343 - CER: 0.0053 - WER: 0.0267\n",
      "Epoch 2: val_CER did not improve from 0.01346\n"
     ]
    },
    {
     "name": "stderr",
     "output_type": "stream",
     "text": [
      "2024-06-22 18:28:13,245 INFO root: Epoch 1; loss: 0.13431957364082336; CER: 0.00555555522441864; WER: 0.02777777798473835; val_loss: 0.6977093815803528; val_CER: 0.02500000223517418; val_WER: 0.11538461595773697\n"
     ]
    },
    {
     "name": "stdout",
     "output_type": "stream",
     "text": [
      "15/15 [==============================] - 30s 2s/step - loss: 0.1343 - CER: 0.0054 - WER: 0.0268 - val_loss: 0.6977 - val_CER: 0.0250 - val_WER: 0.1154 - lr: 7.2900e-04\n",
      "Epoch 3/1000\n",
      "15/15 [==============================] - ETA: 0s - loss: 0.1298 - CER: 0.0084 - WER: 0.0407\n",
      "Epoch 3: val_CER did not improve from 0.01346\n"
     ]
    },
    {
     "name": "stderr",
     "output_type": "stream",
     "text": [
      "2024-06-22 18:28:46,084 INFO root: Epoch 2; loss: 0.12977810204029083; CER: 0.007051282096654177; WER: 0.03418803587555885; val_loss: 0.7701315879821777; val_CER: 0.026923079043626785; val_WER: 0.11538461595773697\n"
     ]
    },
    {
     "name": "stdout",
     "output_type": "stream",
     "text": [
      "15/15 [==============================] - 33s 2s/step - loss: 0.1298 - CER: 0.0083 - WER: 0.0403 - val_loss: 0.7701 - val_CER: 0.0269 - val_WER: 0.1154 - lr: 7.2900e-04\n",
      "Epoch 4/1000\n",
      "15/15 [==============================] - ETA: 0s - loss: 0.1458 - CER: 0.0086 - WER: 0.0430\n",
      "Epoch 4: val_CER did not improve from 0.01346\n"
     ]
    },
    {
     "name": "stderr",
     "output_type": "stream",
     "text": [
      "2024-06-22 18:29:12,724 INFO root: Epoch 3; loss: 0.14576144516468048; CER: 0.008333333767950535; WER: 0.0416666679084301; val_loss: 0.6134137511253357; val_CER: 0.021153846755623817; val_WER: 0.09615384787321091\n"
     ]
    },
    {
     "name": "stdout",
     "output_type": "stream",
     "text": [
      "15/15 [==============================] - 27s 2s/step - loss: 0.1458 - CER: 0.0086 - WER: 0.0429 - val_loss: 0.6134 - val_CER: 0.0212 - val_WER: 0.0962 - lr: 7.2900e-04\n",
      "Epoch 5/1000\n",
      "15/15 [==============================] - ETA: 0s - loss: 0.1335 - CER: 0.0072 - WER: 0.0359\n",
      "Epoch 5: val_CER did not improve from 0.01346\n"
     ]
    },
    {
     "name": "stderr",
     "output_type": "stream",
     "text": [
      "2024-06-22 18:29:39,951 INFO root: Epoch 4; loss: 0.1335453987121582; CER: 0.006837606895714998; WER: 0.03418803587555885; val_loss: 0.6742923855781555; val_CER: 0.0307692289352417; val_WER: 0.125\n"
     ]
    },
    {
     "name": "stdout",
     "output_type": "stream",
     "text": [
      "15/15 [==============================] - 27s 2s/step - loss: 0.1335 - CER: 0.0072 - WER: 0.0358 - val_loss: 0.6743 - val_CER: 0.0308 - val_WER: 0.1250 - lr: 7.2900e-04\n",
      "Epoch 6/1000\n",
      "15/15 [==============================] - ETA: 0s - loss: 0.1172 - CER: 0.0045 - WER: 0.0225\n",
      "Epoch 6: val_CER did not improve from 0.01346\n"
     ]
    },
    {
     "name": "stderr",
     "output_type": "stream",
     "text": [
      "2024-06-22 18:30:08,658 INFO root: Epoch 5; loss: 0.11722776293754578; CER: 0.004914529621601105; WER: 0.024572649970650673; val_loss: 0.6121748089790344; val_CER: 0.02499999850988388; val_WER: 0.10576923191547394\n"
     ]
    },
    {
     "name": "stdout",
     "output_type": "stream",
     "text": [
      "15/15 [==============================] - 29s 2s/step - loss: 0.1172 - CER: 0.0045 - WER: 0.0226 - val_loss: 0.6122 - val_CER: 0.0250 - val_WER: 0.1058 - lr: 7.2900e-04\n",
      "Epoch 7/1000\n",
      "15/15 [==============================] - ETA: 0s - loss: 0.1346 - CER: 0.0069 - WER: 0.0300\n",
      "Epoch 7: val_CER did not improve from 0.01346\n"
     ]
    },
    {
     "name": "stderr",
     "output_type": "stream",
     "text": [
      "2024-06-22 18:30:35,567 INFO root: Epoch 6; loss: 0.13459287583827972; CER: 0.006837606430053711; WER: 0.030982905998826027; val_loss: 0.5941401720046997; val_CER: 0.021153846755623817; val_WER: 0.09615384787321091\n"
     ]
    },
    {
     "name": "stdout",
     "output_type": "stream",
     "text": [
      "15/15 [==============================] - 27s 2s/step - loss: 0.1346 - CER: 0.0069 - WER: 0.0300 - val_loss: 0.5941 - val_CER: 0.0212 - val_WER: 0.0962 - lr: 7.2900e-04\n",
      "Epoch 8/1000\n",
      "15/15 [==============================] - ETA: 0s - loss: 0.1261 - CER: 0.0053 - WER: 0.0252\n",
      "Epoch 8: val_CER did not improve from 0.01346\n"
     ]
    },
    {
     "name": "stderr",
     "output_type": "stream",
     "text": [
      "2024-06-22 18:31:06,619 INFO root: Epoch 7; loss: 0.12608619034290314; CER: 0.007051282096654177; WER: 0.03418803587555885; val_loss: 0.7504640817642212; val_CER: 0.028846153989434242; val_WER: 0.125\n"
     ]
    },
    {
     "name": "stdout",
     "output_type": "stream",
     "text": [
      "15/15 [==============================] - 31s 2s/step - loss: 0.1261 - CER: 0.0054 - WER: 0.0258 - val_loss: 0.7505 - val_CER: 0.0288 - val_WER: 0.1250 - lr: 7.2900e-04\n",
      "Epoch 9/1000\n",
      "15/15 [==============================] - ETA: 0s - loss: 0.1289 - CER: 0.0086 - WER: 0.0392\n",
      "Epoch 9: val_CER did not improve from 0.01346\n"
     ]
    },
    {
     "name": "stderr",
     "output_type": "stream",
     "text": [
      "2024-06-22 18:31:33,565 INFO root: Epoch 8; loss: 0.12890659272670746; CER: 0.007478632498532534; WER: 0.03632478788495064; val_loss: 0.7215912342071533; val_CER: 0.026923079043626785; val_WER: 0.10576923191547394\n"
     ]
    },
    {
     "name": "stdout",
     "output_type": "stream",
     "text": [
      "15/15 [==============================] - 27s 2s/step - loss: 0.1289 - CER: 0.0085 - WER: 0.0390 - val_loss: 0.7216 - val_CER: 0.0269 - val_WER: 0.1058 - lr: 7.2900e-04\n",
      "Epoch 10/1000\n",
      "15/15 [==============================] - ETA: 0s - loss: 0.1119 - CER: 0.0054 - WER: 0.0271\n",
      "Epoch 10: val_CER did not improve from 0.01346\n"
     ]
    },
    {
     "name": "stderr",
     "output_type": "stream",
     "text": [
      "2024-06-22 18:32:02,741 INFO root: Epoch 9; loss: 0.11190938204526901; CER: 0.005341880489140749; WER: 0.026709401980042458; val_loss: 0.5066452622413635; val_CER: 0.017307691276073456; val_WER: 0.07692307978868484\n"
     ]
    },
    {
     "name": "stdout",
     "output_type": "stream",
     "text": [
      "15/15 [==============================] - 29s 2s/step - loss: 0.1119 - CER: 0.0054 - WER: 0.0271 - val_loss: 0.5066 - val_CER: 0.0173 - val_WER: 0.0769 - lr: 7.2900e-04\n",
      "Epoch 11/1000\n",
      "15/15 [==============================] - ETA: 0s - loss: 0.1292 - CER: 0.0074 - WER: 0.0368\n",
      "Epoch 11: val_CER did not improve from 0.01346\n"
     ]
    },
    {
     "name": "stderr",
     "output_type": "stream",
     "text": [
      "2024-06-22 18:32:30,156 INFO root: Epoch 10; loss: 0.12916122376918793; CER: 0.008119658567011356; WER: 0.04059829190373421; val_loss: 0.6085277199745178; val_CER: 0.021153846755623817; val_WER: 0.09615384787321091\n"
     ]
    },
    {
     "name": "stdout",
     "output_type": "stream",
     "text": [
      "15/15 [==============================] - 27s 2s/step - loss: 0.1292 - CER: 0.0074 - WER: 0.0371 - val_loss: 0.6085 - val_CER: 0.0212 - val_WER: 0.0962 - lr: 7.2900e-04\n",
      "Epoch 12/1000\n",
      "15/15 [==============================] - ETA: 0s - loss: 0.1300 - CER: 0.0055 - WER: 0.0272\n",
      "Epoch 12: val_CER did not improve from 0.01346\n"
     ]
    },
    {
     "name": "stderr",
     "output_type": "stream",
     "text": [
      "2024-06-22 18:32:57,067 INFO root: Epoch 11; loss: 0.13004781305789948; CER: 0.005769231356680393; WER: 0.02777777798473835; val_loss: 0.6196308732032776; val_CER: 0.017307693138718605; val_WER: 0.07692307978868484\n"
     ]
    },
    {
     "name": "stdout",
     "output_type": "stream",
     "text": [
      "15/15 [==============================] - 27s 2s/step - loss: 0.1300 - CER: 0.0055 - WER: 0.0272 - val_loss: 0.6196 - val_CER: 0.0173 - val_WER: 0.0769 - lr: 7.2900e-04\n",
      "Epoch 13/1000\n",
      "15/15 [==============================] - ETA: 0s - loss: 0.1400 - CER: 0.0082 - WER: 0.0410\n",
      "Epoch 13: val_CER did not improve from 0.01346\n"
     ]
    },
    {
     "name": "stderr",
     "output_type": "stream",
     "text": [
      "2024-06-22 18:33:24,484 INFO root: Epoch 12; loss: 0.14000603556632996; CER: 0.008119657635688782; WER: 0.04059829190373421; val_loss: 0.4893471300601959; val_CER: 0.017307691276073456; val_WER: 0.07692307978868484\n"
     ]
    },
    {
     "name": "stdout",
     "output_type": "stream",
     "text": [
      "15/15 [==============================] - 27s 2s/step - loss: 0.1400 - CER: 0.0082 - WER: 0.0410 - val_loss: 0.4893 - val_CER: 0.0173 - val_WER: 0.0769 - lr: 7.2900e-04\n",
      "Epoch 14/1000\n",
      "15/15 [==============================] - ETA: 0s - loss: 0.1381 - CER: 0.0069 - WER: 0.0346\n",
      "Epoch 14: val_CER did not improve from 0.01346\n"
     ]
    },
    {
     "name": "stderr",
     "output_type": "stream",
     "text": [
      "2024-06-22 18:33:52,232 INFO root: Epoch 13; loss: 0.13811688125133514; CER: 0.007051282096654177; WER: 0.035256411880254745; val_loss: 0.5491172075271606; val_CER: 0.015384615398943424; val_WER: 0.06730769574642181\n"
     ]
    },
    {
     "name": "stdout",
     "output_type": "stream",
     "text": [
      "15/15 [==============================] - 28s 2s/step - loss: 0.1381 - CER: 0.0069 - WER: 0.0346 - val_loss: 0.5491 - val_CER: 0.0154 - val_WER: 0.0673 - lr: 7.2900e-04\n",
      "Epoch 15/1000\n",
      "15/15 [==============================] - ETA: 0s - loss: 0.1142 - CER: 0.0075 - WER: 0.0374\n",
      "Epoch 15: val_CER did not improve from 0.01346\n"
     ]
    },
    {
     "name": "stderr",
     "output_type": "stream",
     "text": [
      "2024-06-22 18:34:19,143 INFO root: Epoch 14; loss: 0.11423391103744507; CER: 0.0066239312291145325; WER: 0.03311965987086296; val_loss: 0.49856036901474; val_CER: 0.013461538590490818; val_WER: 0.057692307978868484\n"
     ]
    },
    {
     "name": "stdout",
     "output_type": "stream",
     "text": [
      "15/15 [==============================] - 27s 2s/step - loss: 0.1142 - CER: 0.0074 - WER: 0.0371 - val_loss: 0.4986 - val_CER: 0.0135 - val_WER: 0.0577 - lr: 7.2900e-04\n",
      "Epoch 16/1000\n",
      "15/15 [==============================] - ETA: 0s - loss: 0.0996 - CER: 0.0062 - WER: 0.0302\n",
      "Epoch 16: val_CER did not improve from 0.01346\n"
     ]
    },
    {
     "name": "stderr",
     "output_type": "stream",
     "text": [
      "2024-06-22 18:34:45,929 INFO root: Epoch 15; loss: 0.0996135026216507; CER: 0.005341880954802036; WER: 0.025641025975346565; val_loss: 0.6636922359466553; val_CER: 0.021153846755623817; val_WER: 0.08653846383094788\n"
     ]
    },
    {
     "name": "stdout",
     "output_type": "stream",
     "text": [
      "15/15 [==============================] - 27s 2s/step - loss: 0.0996 - CER: 0.0062 - WER: 0.0299 - val_loss: 0.6637 - val_CER: 0.0212 - val_WER: 0.0865 - lr: 7.2900e-04\n",
      "Epoch 17/1000\n",
      "15/15 [==============================] - ETA: 0s - loss: 0.1301 - CER: 0.0071 - WER: 0.0357\n",
      "Epoch 17: val_CER did not improve from 0.01346\n"
     ]
    },
    {
     "name": "stderr",
     "output_type": "stream",
     "text": [
      "2024-06-22 18:35:14,390 INFO root: Epoch 16; loss: 0.1300937533378601; CER: 0.007478632964193821; WER: 0.03739316388964653; val_loss: 0.5474295616149902; val_CER: 0.021153846755623817; val_WER: 0.09615384787321091\n"
     ]
    },
    {
     "name": "stdout",
     "output_type": "stream",
     "text": [
      "15/15 [==============================] - 28s 2s/step - loss: 0.1301 - CER: 0.0072 - WER: 0.0358 - val_loss: 0.5474 - val_CER: 0.0212 - val_WER: 0.0962 - lr: 7.2900e-04\n",
      "Epoch 18/1000\n",
      "15/15 [==============================] - ETA: 0s - loss: 0.1156 - CER: 0.0057 - WER: 0.0285\n",
      "Epoch 18: val_CER did not improve from 0.01346\n"
     ]
    },
    {
     "name": "stderr",
     "output_type": "stream",
     "text": [
      "2024-06-22 18:35:41,704 INFO root: Epoch 17; loss: 0.11562243849039078; CER: 0.00598290516063571; WER: 0.029914529994130135; val_loss: 0.7237804532051086; val_CER: 0.021153846755623817; val_WER: 0.07692307978868484\n"
     ]
    },
    {
     "name": "stdout",
     "output_type": "stream",
     "text": [
      "15/15 [==============================] - 27s 2s/step - loss: 0.1156 - CER: 0.0057 - WER: 0.0286 - val_loss: 0.7238 - val_CER: 0.0212 - val_WER: 0.0769 - lr: 7.2900e-04\n",
      "Epoch 19/1000\n",
      "15/15 [==============================] - ETA: 0s - loss: 0.1205 - CER: 0.0081 - WER: 0.0406\n",
      "Epoch 19: val_CER did not improve from 0.01346\n"
     ]
    },
    {
     "name": "stderr",
     "output_type": "stream",
     "text": [
      "2024-06-22 18:36:08,803 INFO root: Epoch 18; loss: 0.12048465758562088; CER: 0.007478632032871246; WER: 0.03739316388964653; val_loss: 0.5143991708755493; val_CER: 0.021153846755623817; val_WER: 0.08653846383094788\n"
     ]
    },
    {
     "name": "stdout",
     "output_type": "stream",
     "text": [
      "15/15 [==============================] - 27s 2s/step - loss: 0.1205 - CER: 0.0081 - WER: 0.0404 - val_loss: 0.5144 - val_CER: 0.0212 - val_WER: 0.0865 - lr: 7.2900e-04\n",
      "Epoch 20/1000\n",
      "15/15 [==============================] - ETA: 0s - loss: 0.1160 - CER: 0.0064 - WER: 0.0318\n",
      "Epoch 20: val_CER did not improve from 0.01346\n"
     ]
    },
    {
     "name": "stderr",
     "output_type": "stream",
     "text": [
      "2024-06-22 18:36:37,509 INFO root: Epoch 19; loss: 0.1160246729850769; CER: 0.007264956831932068; WER: 0.03632478788495064; val_loss: 0.6552925109863281; val_CER: 0.023076923564076424; val_WER: 0.09615384787321091\n"
     ]
    },
    {
     "name": "stdout",
     "output_type": "stream",
     "text": [
      "15/15 [==============================] - 29s 2s/step - loss: 0.1160 - CER: 0.0064 - WER: 0.0321 - val_loss: 0.6553 - val_CER: 0.0231 - val_WER: 0.0962 - lr: 7.2900e-04\n",
      "Epoch 21/1000\n",
      "15/15 [==============================] - ETA: 0s - loss: 0.1163 - CER: 0.0055 - WER: 0.0277\n",
      "Epoch 21: val_CER did not improve from 0.01346\n"
     ]
    },
    {
     "name": "stderr",
     "output_type": "stream",
     "text": [
      "2024-06-22 18:37:04,605 INFO root: Epoch 20; loss: 0.1163194477558136; CER: 0.005341880489140749; WER: 0.026709401980042458; val_loss: 0.546409547328949; val_CER: 0.023076923564076424; val_WER: 0.08653846383094788\n"
     ]
    },
    {
     "name": "stdout",
     "output_type": "stream",
     "text": [
      "15/15 [==============================] - 27s 2s/step - loss: 0.1163 - CER: 0.0055 - WER: 0.0276 - val_loss: 0.5464 - val_CER: 0.0231 - val_WER: 0.0865 - lr: 7.2900e-04\n",
      "Epoch 22/1000\n",
      "15/15 [==============================] - ETA: 0s - loss: 0.1268 - CER: 0.0068 - WER: 0.0336\n",
      "Epoch 22: val_CER did not improve from 0.01346\n"
     ]
    },
    {
     "name": "stderr",
     "output_type": "stream",
     "text": [
      "2024-06-22 18:37:31,305 INFO root: Epoch 21; loss: 0.12677954137325287; CER: 0.005769230891019106; WER: 0.02777777798473835; val_loss: 0.544424831867218; val_CER: 0.021153846755623817; val_WER: 0.09615384787321091\n"
     ]
    },
    {
     "name": "stdout",
     "output_type": "stream",
     "text": [
      "15/15 [==============================] - 27s 2s/step - loss: 0.1268 - CER: 0.0067 - WER: 0.0332 - val_loss: 0.5444 - val_CER: 0.0212 - val_WER: 0.0962 - lr: 7.2900e-04\n",
      "Epoch 23/1000\n",
      "15/15 [==============================] - ETA: 0s - loss: 0.0882 - CER: 0.0036 - WER: 0.0181\n",
      "Epoch 23: val_CER did not improve from 0.01346\n"
     ]
    },
    {
     "name": "stderr",
     "output_type": "stream",
     "text": [
      "2024-06-22 18:37:59,209 INFO root: Epoch 22; loss: 0.08823002129793167; CER: 0.0032051284797489643; WER: 0.016025641933083534; val_loss: 0.5750705599784851; val_CER: 0.015384615398943424; val_WER: 0.06730769574642181\n"
     ]
    },
    {
     "name": "stdout",
     "output_type": "stream",
     "text": [
      "15/15 [==============================] - 28s 2s/step - loss: 0.0882 - CER: 0.0036 - WER: 0.0179 - val_loss: 0.5751 - val_CER: 0.0154 - val_WER: 0.0673 - lr: 7.2900e-04\n",
      "Epoch 24/1000\n",
      "15/15 [==============================] - ETA: 0s - loss: 0.1190 - CER: 0.0077 - WER: 0.0378\n",
      "Epoch 24: val_CER did not improve from 0.01346\n"
     ]
    },
    {
     "name": "stderr",
     "output_type": "stream",
     "text": [
      "2024-06-22 18:38:26,768 INFO root: Epoch 23; loss: 0.1189962774515152; CER: 0.0066239312291145325; WER: 0.03205128386616707; val_loss: 0.5680112242698669; val_CER: 0.017307691276073456; val_WER: 0.07692307978868484\n"
     ]
    },
    {
     "name": "stdout",
     "output_type": "stream",
     "text": [
      "15/15 [==============================] - 28s 2s/step - loss: 0.1190 - CER: 0.0076 - WER: 0.0374 - val_loss: 0.5680 - val_CER: 0.0173 - val_WER: 0.0769 - lr: 7.2900e-04\n",
      "Epoch 25/1000\n",
      "15/15 [==============================] - ETA: 0s - loss: 0.1083 - CER: 0.0073 - WER: 0.0349\n",
      "Epoch 25: val_CER did not improve from 0.01346\n"
     ]
    },
    {
     "name": "stderr",
     "output_type": "stream",
     "text": [
      "2024-06-22 18:38:53,490 INFO root: Epoch 24; loss: 0.10830400884151459; CER: 0.007051283027976751; WER: 0.03418803587555885; val_loss: 0.7528486847877502; val_CER: 0.021153846755623817; val_WER: 0.09615384787321091\n"
     ]
    },
    {
     "name": "stdout",
     "output_type": "stream",
     "text": [
      "15/15 [==============================] - 27s 2s/step - loss: 0.1083 - CER: 0.0073 - WER: 0.0348 - val_loss: 0.7528 - val_CER: 0.0212 - val_WER: 0.0962 - lr: 7.2900e-04\n",
      "Epoch 26/1000\n",
      "15/15 [==============================] - ETA: 0s - loss: 0.1095 - CER: 0.0083 - WER: 0.0389\n",
      "Epoch 26: val_CER did not improve from 0.01346\n"
     ]
    },
    {
     "name": "stderr",
     "output_type": "stream",
     "text": [
      "2024-06-22 18:39:21,536 INFO root: Epoch 25; loss: 0.10954433679580688; CER: 0.007478632032871246; WER: 0.035256411880254745; val_loss: 0.9507713913917542; val_CER: 0.03846153989434242; val_WER: 0.18269230425357819\n"
     ]
    },
    {
     "name": "stdout",
     "output_type": "stream",
     "text": [
      "15/15 [==============================] - 28s 2s/step - loss: 0.1095 - CER: 0.0082 - WER: 0.0387 - val_loss: 0.9508 - val_CER: 0.0385 - val_WER: 0.1827 - lr: 7.2900e-04\n",
      "Epoch 27/1000\n",
      "15/15 [==============================] - ETA: 0s - loss: 0.0870 - CER: 0.0058 - WER: 0.0290\n",
      "Epoch 27: val_CER did not improve from 0.01346\n"
     ]
    },
    {
     "name": "stderr",
     "output_type": "stream",
     "text": [
      "2024-06-22 18:39:50,027 INFO root: Epoch 26; loss: 0.08703780919313431; CER: 0.005341880489140749; WER: 0.026709401980042458; val_loss: 0.5568172335624695; val_CER: 0.017307693138718605; val_WER: 0.08653846383094788\n"
     ]
    },
    {
     "name": "stdout",
     "output_type": "stream",
     "text": [
      "15/15 [==============================] - 28s 2s/step - loss: 0.0870 - CER: 0.0058 - WER: 0.0289 - val_loss: 0.5568 - val_CER: 0.0173 - val_WER: 0.0865 - lr: 7.2900e-04\n",
      "Epoch 28/1000\n",
      "15/15 [==============================] - ETA: 0s - loss: 0.1184 - CER: 0.0076 - WER: 0.0382\n",
      "Epoch 28: val_CER did not improve from 0.01346\n"
     ]
    },
    {
     "name": "stderr",
     "output_type": "stream",
     "text": [
      "2024-06-22 18:40:17,002 INFO root: Epoch 27; loss: 0.11835824698209763; CER: 0.006623932626098394; WER: 0.03311965987086296; val_loss: 0.597006618976593; val_CER: 0.021153846755623817; val_WER: 0.09615384787321091\n"
     ]
    },
    {
     "name": "stdout",
     "output_type": "stream",
     "text": [
      "15/15 [==============================] - 27s 2s/step - loss: 0.1184 - CER: 0.0076 - WER: 0.0379 - val_loss: 0.5970 - val_CER: 0.0212 - val_WER: 0.0962 - lr: 7.2900e-04\n",
      "Epoch 29/1000\n",
      "15/15 [==============================] - ETA: 0s - loss: 0.1142 - CER: 0.0079 - WER: 0.0362\n",
      "Epoch 29: val_CER did not improve from 0.01346\n"
     ]
    },
    {
     "name": "stderr",
     "output_type": "stream",
     "text": [
      "2024-06-22 18:40:44,044 INFO root: Epoch 28; loss: 0.11421217024326324; CER: 0.006410256959497929; WER: 0.028846153989434242; val_loss: 0.832614004611969; val_CER: 0.036538463085889816; val_WER: 0.16346153616905212\n"
     ]
    },
    {
     "name": "stdout",
     "output_type": "stream",
     "text": [
      "15/15 [==============================] - 27s 2s/step - loss: 0.1142 - CER: 0.0078 - WER: 0.0357 - val_loss: 0.8326 - val_CER: 0.0365 - val_WER: 0.1635 - lr: 7.2900e-04\n",
      "Epoch 30/1000\n",
      "15/15 [==============================] - ETA: 0s - loss: 0.1354 - CER: 0.0086 - WER: 0.0432\n",
      "Epoch 30: val_CER did not improve from 0.01346\n"
     ]
    },
    {
     "name": "stderr",
     "output_type": "stream",
     "text": [
      "2024-06-22 18:41:12,375 INFO root: Epoch 29; loss: 0.13536670804023743; CER: 0.008333333767950535; WER: 0.0416666679084301; val_loss: 0.7108052372932434; val_CER: 0.028846153989434242; val_WER: 0.11538461595773697\n"
     ]
    },
    {
     "name": "stdout",
     "output_type": "stream",
     "text": [
      "15/15 [==============================] - 28s 2s/step - loss: 0.1354 - CER: 0.0086 - WER: 0.0431 - val_loss: 0.7108 - val_CER: 0.0288 - val_WER: 0.1154 - lr: 7.2900e-04\n",
      "Epoch 31/1000\n",
      "15/15 [==============================] - ETA: 0s - loss: 0.0896 - CER: 0.0058 - WER: 0.0288\n",
      "Epoch 31: val_CER did not improve from 0.01346\n"
     ]
    },
    {
     "name": "stderr",
     "output_type": "stream",
     "text": [
      "2024-06-22 18:41:39,627 INFO root: Epoch 30; loss: 0.08959338068962097; CER: 0.004273504484444857; WER: 0.021367521956562996; val_loss: 0.6310575008392334; val_CER: 0.023076923564076424; val_WER: 0.09615384787321091\n"
     ]
    },
    {
     "name": "stdout",
     "output_type": "stream",
     "text": [
      "15/15 [==============================] - 27s 2s/step - loss: 0.0896 - CER: 0.0057 - WER: 0.0283 - val_loss: 0.6311 - val_CER: 0.0231 - val_WER: 0.0962 - lr: 7.2900e-04\n",
      "Epoch 32/1000\n",
      "15/15 [==============================] - ETA: 0s - loss: 0.1048 - CER: 0.0039 - WER: 0.0194\n",
      "Epoch 32: val_CER did not improve from 0.01346\n"
     ]
    },
    {
     "name": "stderr",
     "output_type": "stream",
     "text": [
      "2024-06-22 18:42:06,508 INFO root: Epoch 31; loss: 0.10479500144720078; CER: 0.004273504484444857; WER: 0.021367521956562996; val_loss: 0.6403073072433472; val_CER: 0.01923076994717121; val_WER: 0.08653846383094788\n"
     ]
    },
    {
     "name": "stdout",
     "output_type": "stream",
     "text": [
      "15/15 [==============================] - 27s 2s/step - loss: 0.1048 - CER: 0.0039 - WER: 0.0195 - val_loss: 0.6403 - val_CER: 0.0192 - val_WER: 0.0865 - lr: 7.2900e-04\n",
      "Epoch 33/1000\n",
      "15/15 [==============================] - ETA: 0s - loss: 0.0876 - CER: 0.0031 - WER: 0.0156\n",
      "Epoch 33: val_CER did not improve from 0.01346\n"
     ]
    },
    {
     "name": "stderr",
     "output_type": "stream",
     "text": [
      "2024-06-22 18:42:35,331 INFO root: Epoch 32; loss: 0.08760027587413788; CER: 0.0040598297491669655; WER: 0.020299145951867104; val_loss: 1.555496096611023; val_CER: 0.06538461893796921; val_WER: 0.3076923191547394\n"
     ]
    },
    {
     "name": "stdout",
     "output_type": "stream",
     "text": [
      "15/15 [==============================] - 29s 2s/step - loss: 0.0876 - CER: 0.0032 - WER: 0.0159 - val_loss: 1.5555 - val_CER: 0.0654 - val_WER: 0.3077 - lr: 7.2900e-04\n",
      "Epoch 34/1000\n",
      "15/15 [==============================] - ETA: 0s - loss: 0.0912 - CER: 0.0060 - WER: 0.0301\n",
      "Epoch 34: val_CER did not improve from 0.01346\n"
     ]
    },
    {
     "name": "stderr",
     "output_type": "stream",
     "text": [
      "2024-06-22 18:43:03,911 INFO root: Epoch 33; loss: 0.09124784916639328; CER: 0.004914529621601105; WER: 0.024572649970650673; val_loss: 2.415745735168457; val_CER: 0.11153846234083176; val_WER: 0.5192307829856873\n"
     ]
    },
    {
     "name": "stdout",
     "output_type": "stream",
     "text": [
      "15/15 [==============================] - 29s 2s/step - loss: 0.0912 - CER: 0.0060 - WER: 0.0298 - val_loss: 2.4157 - val_CER: 0.1115 - val_WER: 0.5192 - lr: 7.2900e-04\n",
      "Epoch 35/1000\n",
      "15/15 [==============================] - ETA: 0s - loss: 0.0962 - CER: 0.0045 - WER: 0.0223\n",
      "Epoch 35: val_CER did not improve from 0.01346\n"
     ]
    },
    {
     "name": "stderr",
     "output_type": "stream",
     "text": [
      "2024-06-22 18:43:30,982 INFO root: Epoch 34; loss: 0.09618920832872391; CER: 0.005769230425357819; WER: 0.028846153989434242; val_loss: 0.4991058111190796; val_CER: 0.017307691276073456; val_WER: 0.07692307978868484\n"
     ]
    },
    {
     "name": "stdout",
     "output_type": "stream",
     "text": [
      "\n",
      "Epoch 35: ReduceLROnPlateau reducing learning rate to 0.0006561000715009868.\n",
      "15/15 [==============================] - 27s 2s/step - loss: 0.0962 - CER: 0.0045 - WER: 0.0227 - val_loss: 0.4991 - val_CER: 0.0173 - val_WER: 0.0769 - lr: 7.2900e-04\n",
      "Epoch 36/1000\n",
      "15/15 [==============================] - ETA: 0s - loss: 0.1003 - CER: 0.0063 - WER: 0.0313\n",
      "Epoch 36: val_CER did not improve from 0.01346\n"
     ]
    },
    {
     "name": "stderr",
     "output_type": "stream",
     "text": [
      "2024-06-22 18:43:57,971 INFO root: Epoch 35; loss: 0.1002660021185875; CER: 0.005769230891019106; WER: 0.028846153989434242; val_loss: 0.6466731429100037; val_CER: 0.021153846755623817; val_WER: 0.09615384787321091\n"
     ]
    },
    {
     "name": "stdout",
     "output_type": "stream",
     "text": [
      "15/15 [==============================] - 27s 2s/step - loss: 0.1003 - CER: 0.0062 - WER: 0.0312 - val_loss: 0.6467 - val_CER: 0.0212 - val_WER: 0.0962 - lr: 6.5610e-04\n",
      "Epoch 37/1000\n",
      "15/15 [==============================] - ETA: 0s - loss: 0.0781 - CER: 0.0034 - WER: 0.0171\n",
      "Epoch 37: val_CER did not improve from 0.01346\n"
     ]
    },
    {
     "name": "stderr",
     "output_type": "stream",
     "text": [
      "2024-06-22 18:44:26,304 INFO root: Epoch 36; loss: 0.07805758714675903; CER: 0.0034188039135187864; WER: 0.017094017937779427; val_loss: 0.5931671261787415; val_CER: 0.017307693138718605; val_WER: 0.07692307978868484\n"
     ]
    },
    {
     "name": "stdout",
     "output_type": "stream",
     "text": [
      "15/15 [==============================] - 28s 2s/step - loss: 0.0781 - CER: 0.0034 - WER: 0.0171 - val_loss: 0.5932 - val_CER: 0.0173 - val_WER: 0.0769 - lr: 6.5610e-04\n",
      "Epoch 38/1000\n",
      "15/15 [==============================] - ETA: 0s - loss: 0.0989 - CER: 0.0063 - WER: 0.0304\n",
      "Epoch 38: val_CER did not improve from 0.01346\n"
     ]
    },
    {
     "name": "stderr",
     "output_type": "stream",
     "text": [
      "2024-06-22 18:44:52,725 INFO root: Epoch 37; loss: 0.09893778711557388; CER: 0.006410256493836641; WER: 0.030982905998826027; val_loss: 0.6356276869773865; val_CER: 0.01923076994717121; val_WER: 0.08653846383094788\n"
     ]
    },
    {
     "name": "stdout",
     "output_type": "stream",
     "text": [
      "15/15 [==============================] - 26s 2s/step - loss: 0.0989 - CER: 0.0063 - WER: 0.0305 - val_loss: 0.6356 - val_CER: 0.0192 - val_WER: 0.0865 - lr: 6.5610e-04\n",
      "Epoch 39/1000\n",
      "15/15 [==============================] - ETA: 0s - loss: 0.0743 - CER: 0.0036 - WER: 0.0181\n",
      "Epoch 39: val_CER did not improve from 0.01346\n"
     ]
    },
    {
     "name": "stderr",
     "output_type": "stream",
     "text": [
      "2024-06-22 18:45:19,349 INFO root: Epoch 38; loss: 0.0743170902132988; CER: 0.004059829283505678; WER: 0.020299145951867104; val_loss: 0.48030754923820496; val_CER: 0.017307693138718605; val_WER: 0.07692307978868484\n"
     ]
    },
    {
     "name": "stdout",
     "output_type": "stream",
     "text": [
      "15/15 [==============================] - 27s 2s/step - loss: 0.0743 - CER: 0.0036 - WER: 0.0182 - val_loss: 0.4803 - val_CER: 0.0173 - val_WER: 0.0769 - lr: 6.5610e-04\n",
      "Epoch 40/1000\n",
      "15/15 [==============================] - ETA: 0s - loss: 0.0867 - CER: 0.0036 - WER: 0.0179\n",
      "Epoch 40: val_CER did not improve from 0.01346\n"
     ]
    },
    {
     "name": "stderr",
     "output_type": "stream",
     "text": [
      "2024-06-22 18:45:47,813 INFO root: Epoch 39; loss: 0.08674357831478119; CER: 0.004700854420661926; WER: 0.02350427396595478; val_loss: 0.5477893948554993; val_CER: 0.015384615398943424; val_WER: 0.06730769574642181\n"
     ]
    },
    {
     "name": "stdout",
     "output_type": "stream",
     "text": [
      "15/15 [==============================] - 28s 2s/step - loss: 0.0867 - CER: 0.0036 - WER: 0.0182 - val_loss: 0.5478 - val_CER: 0.0154 - val_WER: 0.0673 - lr: 6.5610e-04\n",
      "Epoch 41/1000\n",
      "15/15 [==============================] - ETA: 0s - loss: 0.0593 - CER: 0.0021 - WER: 0.0104\n",
      "Epoch 41: val_CER did not improve from 0.01346\n"
     ]
    },
    {
     "name": "stderr",
     "output_type": "stream",
     "text": [
      "2024-06-22 18:46:14,858 INFO root: Epoch 40; loss: 0.05930698290467262; CER: 0.0021367522422224283; WER: 0.010683760978281498; val_loss: 0.5096787214279175; val_CER: 0.017307691276073456; val_WER: 0.07692307978868484\n"
     ]
    },
    {
     "name": "stdout",
     "output_type": "stream",
     "text": [
      "15/15 [==============================] - 27s 2s/step - loss: 0.0593 - CER: 0.0021 - WER: 0.0104 - val_loss: 0.5097 - val_CER: 0.0173 - val_WER: 0.0769 - lr: 6.5610e-04\n",
      "Epoch 42/1000\n",
      "15/15 [==============================] - ETA: 0s - loss: 0.0659 - CER: 0.0045 - WER: 0.0223\n",
      "Epoch 42: val_CER did not improve from 0.01346\n"
     ]
    },
    {
     "name": "stderr",
     "output_type": "stream",
     "text": [
      "2024-06-22 18:46:41,447 INFO root: Epoch 41; loss: 0.06588096171617508; CER: 0.0034188036806881428; WER: 0.017094017937779427; val_loss: 0.8207296133041382; val_CER: 0.026923079043626785; val_WER: 0.11538461595773697\n"
     ]
    },
    {
     "name": "stdout",
     "output_type": "stream",
     "text": [
      "15/15 [==============================] - 27s 2s/step - loss: 0.0659 - CER: 0.0044 - WER: 0.0220 - val_loss: 0.8207 - val_CER: 0.0269 - val_WER: 0.1154 - lr: 6.5610e-04\n",
      "Epoch 43/1000\n",
      "15/15 [==============================] - ETA: 0s - loss: 0.0718 - CER: 0.0049 - WER: 0.0243\n",
      "Epoch 43: val_CER did not improve from 0.01346\n"
     ]
    },
    {
     "name": "stderr",
     "output_type": "stream",
     "text": [
      "2024-06-22 18:47:09,962 INFO root: Epoch 42; loss: 0.07179063558578491; CER: 0.0036324788816273212; WER: 0.01816239394247532; val_loss: 0.5769394636154175; val_CER: 0.015384615398943424; val_WER: 0.06730769574642181\n"
     ]
    },
    {
     "name": "stdout",
     "output_type": "stream",
     "text": [
      "15/15 [==============================] - 28s 2s/step - loss: 0.0718 - CER: 0.0048 - WER: 0.0239 - val_loss: 0.5769 - val_CER: 0.0154 - val_WER: 0.0673 - lr: 6.5610e-04\n",
      "Epoch 44/1000\n",
      "15/15 [==============================] - ETA: 0s - loss: 0.0625 - CER: 0.0033 - WER: 0.0167\n",
      "Epoch 44: val_CER did not improve from 0.01346\n"
     ]
    },
    {
     "name": "stderr",
     "output_type": "stream",
     "text": [
      "2024-06-22 18:47:38,334 INFO root: Epoch 43; loss: 0.06249016150832176; CER: 0.0027777778450399637; WER: 0.013888888992369175; val_loss: 0.9272911548614502; val_CER: 0.03461538627743721; val_WER: 0.14423076808452606\n"
     ]
    },
    {
     "name": "stdout",
     "output_type": "stream",
     "text": [
      "15/15 [==============================] - 28s 2s/step - loss: 0.0625 - CER: 0.0033 - WER: 0.0165 - val_loss: 0.9273 - val_CER: 0.0346 - val_WER: 0.1442 - lr: 6.5610e-04\n",
      "Epoch 45/1000\n",
      "15/15 [==============================] - ETA: 0s - loss: 0.0683 - CER: 0.0031 - WER: 0.0156\n",
      "Epoch 45: val_CER did not improve from 0.01346\n"
     ]
    },
    {
     "name": "stderr",
     "output_type": "stream",
     "text": [
      "2024-06-22 18:48:05,327 INFO root: Epoch 44; loss: 0.0683031678199768; CER: 0.0034188036806881428; WER: 0.017094017937779427; val_loss: 0.6245075464248657; val_CER: 0.017307691276073456; val_WER: 0.07692307978868484\n"
     ]
    },
    {
     "name": "stdout",
     "output_type": "stream",
     "text": [
      "15/15 [==============================] - 27s 2s/step - loss: 0.0683 - CER: 0.0031 - WER: 0.0157 - val_loss: 0.6245 - val_CER: 0.0173 - val_WER: 0.0769 - lr: 6.5610e-04\n",
      "Epoch 46/1000\n",
      "15/15 [==============================] - ETA: 0s - loss: 0.0630 - CER: 0.0032 - WER: 0.0126\n",
      "Epoch 46: val_CER did not improve from 0.01346\n"
     ]
    },
    {
     "name": "stderr",
     "output_type": "stream",
     "text": [
      "2024-06-22 18:48:32,437 INFO root: Epoch 45; loss: 0.06299255788326263; CER: 0.0034188036806881428; WER: 0.016025641933083534; val_loss: 0.7401983737945557; val_CER: 0.023076923564076424; val_WER: 0.09615384787321091\n"
     ]
    },
    {
     "name": "stdout",
     "output_type": "stream",
     "text": [
      "15/15 [==============================] - 27s 2s/step - loss: 0.0630 - CER: 0.0033 - WER: 0.0129 - val_loss: 0.7402 - val_CER: 0.0231 - val_WER: 0.0962 - lr: 6.5610e-04\n",
      "Epoch 47/1000\n",
      "15/15 [==============================] - ETA: 0s - loss: 0.0680 - CER: 0.0042 - WER: 0.0210\n",
      "Epoch 47: val_CER did not improve from 0.01346\n"
     ]
    },
    {
     "name": "stderr",
     "output_type": "stream",
     "text": [
      "2024-06-22 18:49:01,170 INFO root: Epoch 46; loss: 0.06802067160606384; CER: 0.004487179685384035; WER: 0.022435897961258888; val_loss: 0.6944353580474854; val_CER: 0.021153848618268967; val_WER: 0.08653846383094788\n"
     ]
    },
    {
     "name": "stdout",
     "output_type": "stream",
     "text": [
      "15/15 [==============================] - 29s 2s/step - loss: 0.0680 - CER: 0.0042 - WER: 0.0211 - val_loss: 0.6944 - val_CER: 0.0212 - val_WER: 0.0865 - lr: 6.5610e-04\n",
      "Epoch 48/1000\n",
      "15/15 [==============================] - ETA: 0s - loss: 0.0702 - CER: 0.0037 - WER: 0.0184\n",
      "Epoch 48: val_CER did not improve from 0.01346\n"
     ]
    },
    {
     "name": "stderr",
     "output_type": "stream",
     "text": [
      "2024-06-22 18:49:27,701 INFO root: Epoch 47; loss: 0.0702490508556366; CER: 0.0032051284797489643; WER: 0.016025641933083534; val_loss: 0.6644886136054993; val_CER: 0.015384615398943424; val_WER: 0.057692307978868484\n"
     ]
    },
    {
     "name": "stdout",
     "output_type": "stream",
     "text": [
      "15/15 [==============================] - 27s 2s/step - loss: 0.0702 - CER: 0.0036 - WER: 0.0182 - val_loss: 0.6645 - val_CER: 0.0154 - val_WER: 0.0577 - lr: 6.5610e-04\n",
      "Epoch 49/1000\n",
      "15/15 [==============================] - ETA: 0s - loss: 0.0472 - CER: 0.0012 - WER: 0.0061\n",
      "Epoch 49: val_CER improved from 0.01346 to 0.01154, saving model to Models/02_captcha_to_text\\202406221639\\model.h5\n"
     ]
    },
    {
     "name": "stderr",
     "output_type": "stream",
     "text": [
      "2024-06-22 18:49:54,875 INFO root: Epoch 48; loss: 0.04716135188937187; CER: 0.0017094018403440714; WER: 0.008547008968889713; val_loss: 0.6830311417579651; val_CER: 0.011538461782038212; val_WER: 0.048076923936605453\n"
     ]
    },
    {
     "name": "stdout",
     "output_type": "stream",
     "text": [
      "15/15 [==============================] - 27s 2s/step - loss: 0.0472 - CER: 0.0013 - WER: 0.0063 - val_loss: 0.6830 - val_CER: 0.0115 - val_WER: 0.0481 - lr: 6.5610e-04\n",
      "Epoch 50/1000\n",
      "15/15 [==============================] - ETA: 0s - loss: 0.0671 - CER: 0.0041 - WER: 0.0206\n",
      "Epoch 50: val_CER did not improve from 0.01154\n"
     ]
    },
    {
     "name": "stderr",
     "output_type": "stream",
     "text": [
      "2024-06-22 18:50:23,582 INFO root: Epoch 49; loss: 0.06714755296707153; CER: 0.0036324788816273212; WER: 0.01816239394247532; val_loss: 0.5428164005279541; val_CER: 0.013461538590490818; val_WER: 0.057692307978868484\n"
     ]
    },
    {
     "name": "stdout",
     "output_type": "stream",
     "text": [
      "15/15 [==============================] - 29s 2s/step - loss: 0.0671 - CER: 0.0041 - WER: 0.0205 - val_loss: 0.5428 - val_CER: 0.0135 - val_WER: 0.0577 - lr: 6.5610e-04\n",
      "Epoch 51/1000\n",
      "15/15 [==============================] - ETA: 0s - loss: 0.0550 - CER: 0.0020 - WER: 0.0099\n",
      "Epoch 51: val_CER did not improve from 0.01154\n"
     ]
    },
    {
     "name": "stderr",
     "output_type": "stream",
     "text": [
      "2024-06-22 18:50:50,048 INFO root: Epoch 50; loss: 0.05496678128838539; CER: 0.0025641026441007853; WER: 0.012820512987673283; val_loss: 0.4014374017715454; val_CER: 0.011538461782038212; val_WER: 0.057692307978868484\n"
     ]
    },
    {
     "name": "stdout",
     "output_type": "stream",
     "text": [
      "15/15 [==============================] - 26s 2s/step - loss: 0.0550 - CER: 0.0020 - WER: 0.0101 - val_loss: 0.4014 - val_CER: 0.0115 - val_WER: 0.0577 - lr: 6.5610e-04\n",
      "Epoch 52/1000\n",
      "15/15 [==============================] - ETA: 0s - loss: 0.0662 - CER: 0.0031 - WER: 0.0154\n",
      "Epoch 52: val_CER did not improve from 0.01154\n"
     ]
    },
    {
     "name": "stderr",
     "output_type": "stream",
     "text": [
      "2024-06-22 18:51:16,872 INFO root: Epoch 51; loss: 0.06624177098274231; CER: 0.004273504484444857; WER: 0.021367521956562996; val_loss: 0.5608640313148499; val_CER: 0.017307693138718605; val_WER: 0.07692307978868484\n"
     ]
    },
    {
     "name": "stdout",
     "output_type": "stream",
     "text": [
      "15/15 [==============================] - 27s 2s/step - loss: 0.0662 - CER: 0.0031 - WER: 0.0157 - val_loss: 0.5609 - val_CER: 0.0173 - val_WER: 0.0769 - lr: 6.5610e-04\n",
      "Epoch 53/1000\n",
      "15/15 [==============================] - ETA: 0s - loss: 0.0505 - CER: 0.0025 - WER: 0.0125\n",
      "Epoch 53: val_CER did not improve from 0.01154\n"
     ]
    },
    {
     "name": "stderr",
     "output_type": "stream",
     "text": [
      "2024-06-22 18:51:45,410 INFO root: Epoch 52; loss: 0.05045134946703911; CER: 0.002350427443161607; WER: 0.01175213698297739; val_loss: 0.5298967957496643; val_CER: 0.015384615398943424; val_WER: 0.07692307978868484\n"
     ]
    },
    {
     "name": "stdout",
     "output_type": "stream",
     "text": [
      "15/15 [==============================] - 29s 2s/step - loss: 0.0505 - CER: 0.0025 - WER: 0.0125 - val_loss: 0.5299 - val_CER: 0.0154 - val_WER: 0.0769 - lr: 6.5610e-04\n",
      "Epoch 54/1000\n",
      "15/15 [==============================] - ETA: 0s - loss: 0.0858 - CER: 0.0044 - WER: 0.0218\n",
      "Epoch 54: val_CER did not improve from 0.01154\n"
     ]
    },
    {
     "name": "stderr",
     "output_type": "stream",
     "text": [
      "2024-06-22 18:52:12,784 INFO root: Epoch 53; loss: 0.08578931540250778; CER: 0.005128204822540283; WER: 0.025641025975346565; val_loss: 0.4858699440956116; val_CER: 0.017307693138718605; val_WER: 0.08653846383094788\n"
     ]
    },
    {
     "name": "stdout",
     "output_type": "stream",
     "text": [
      "15/15 [==============================] - 27s 2s/step - loss: 0.0858 - CER: 0.0044 - WER: 0.0221 - val_loss: 0.4859 - val_CER: 0.0173 - val_WER: 0.0865 - lr: 6.5610e-04\n",
      "Epoch 55/1000\n",
      "15/15 [==============================] - ETA: 0s - loss: 0.0751 - CER: 0.0046 - WER: 0.0222\n",
      "Epoch 55: val_CER did not improve from 0.01154\n"
     ]
    },
    {
     "name": "stderr",
     "output_type": "stream",
     "text": [
      "2024-06-22 18:52:39,876 INFO root: Epoch 54; loss: 0.07509239763021469; CER: 0.004487179219722748; WER: 0.021367521956562996; val_loss: 0.461034893989563; val_CER: 0.015384615398943424; val_WER: 0.07692307978868484\n"
     ]
    },
    {
     "name": "stdout",
     "output_type": "stream",
     "text": [
      "15/15 [==============================] - 27s 2s/step - loss: 0.0751 - CER: 0.0046 - WER: 0.0222 - val_loss: 0.4610 - val_CER: 0.0154 - val_WER: 0.0769 - lr: 6.5610e-04\n",
      "Epoch 56/1000\n",
      "15/15 [==============================] - ETA: 0s - loss: 0.0992 - CER: 0.0042 - WER: 0.0200\n",
      "Epoch 56: val_CER did not improve from 0.01154\n"
     ]
    },
    {
     "name": "stderr",
     "output_type": "stream",
     "text": [
      "2024-06-22 18:53:07,461 INFO root: Epoch 55; loss: 0.09923788905143738; CER: 0.004487179685384035; WER: 0.021367521956562996; val_loss: 0.4674678444862366; val_CER: 0.017307691276073456; val_WER: 0.08653846383094788\n"
     ]
    },
    {
     "name": "stdout",
     "output_type": "stream",
     "text": [
      "15/15 [==============================] - 28s 2s/step - loss: 0.0992 - CER: 0.0042 - WER: 0.0201 - val_loss: 0.4675 - val_CER: 0.0173 - val_WER: 0.0865 - lr: 6.5610e-04\n",
      "Epoch 57/1000\n",
      "15/15 [==============================] - ETA: 0s - loss: 0.0716 - CER: 0.0050 - WER: 0.0249\n",
      "Epoch 57: val_CER did not improve from 0.01154\n"
     ]
    },
    {
     "name": "stderr",
     "output_type": "stream",
     "text": [
      "2024-06-22 18:53:35,549 INFO root: Epoch 56; loss: 0.0716206282377243; CER: 0.004487180151045322; WER: 0.022435897961258888; val_loss: 0.5842009782791138; val_CER: 0.015384615398943424; val_WER: 0.06730769574642181\n"
     ]
    },
    {
     "name": "stdout",
     "output_type": "stream",
     "text": [
      "15/15 [==============================] - 28s 2s/step - loss: 0.0716 - CER: 0.0049 - WER: 0.0247 - val_loss: 0.5842 - val_CER: 0.0154 - val_WER: 0.0673 - lr: 6.5610e-04\n",
      "Epoch 58/1000\n",
      "15/15 [==============================] - ETA: 0s - loss: 0.0716 - CER: 0.0052 - WER: 0.0241\n",
      "Epoch 58: val_CER did not improve from 0.01154\n"
     ]
    },
    {
     "name": "stderr",
     "output_type": "stream",
     "text": [
      "2024-06-22 18:54:02,433 INFO root: Epoch 57; loss: 0.07160164415836334; CER: 0.005341880954802036; WER: 0.025641025975346565; val_loss: 0.6277371048927307; val_CER: 0.017307691276073456; val_WER: 0.08653846383094788\n"
     ]
    },
    {
     "name": "stdout",
     "output_type": "stream",
     "text": [
      "15/15 [==============================] - 27s 2s/step - loss: 0.0716 - CER: 0.0052 - WER: 0.0242 - val_loss: 0.6277 - val_CER: 0.0173 - val_WER: 0.0865 - lr: 6.5610e-04\n",
      "Epoch 59/1000\n",
      "15/15 [==============================] - ETA: 0s - loss: 0.0953 - CER: 0.0060 - WER: 0.0297\n",
      "Epoch 59: val_CER did not improve from 0.01154\n"
     ]
    },
    {
     "name": "stderr",
     "output_type": "stream",
     "text": [
      "2024-06-22 18:54:29,202 INFO root: Epoch 58; loss: 0.09525136649608612; CER: 0.004914529621601105; WER: 0.02350427396595478; val_loss: 0.46384114027023315; val_CER: 0.011538461782038212; val_WER: 0.057692307978868484\n"
     ]
    },
    {
     "name": "stdout",
     "output_type": "stream",
     "text": [
      "15/15 [==============================] - 27s 2s/step - loss: 0.0953 - CER: 0.0060 - WER: 0.0294 - val_loss: 0.4638 - val_CER: 0.0115 - val_WER: 0.0577 - lr: 6.5610e-04\n",
      "Epoch 60/1000\n",
      "15/15 [==============================] - ETA: 0s - loss: 0.0641 - CER: 0.0025 - WER: 0.0127\n",
      "Epoch 60: val_CER did not improve from 0.01154\n"
     ]
    },
    {
     "name": "stderr",
     "output_type": "stream",
     "text": [
      "2024-06-22 18:54:57,661 INFO root: Epoch 59; loss: 0.06412356346845627; CER: 0.0023504276759922504; WER: 0.01175213698297739; val_loss: 0.5493059754371643; val_CER: 0.017307693138718605; val_WER: 0.08653846383094788\n"
     ]
    },
    {
     "name": "stdout",
     "output_type": "stream",
     "text": [
      "15/15 [==============================] - 28s 2s/step - loss: 0.0641 - CER: 0.0025 - WER: 0.0126 - val_loss: 0.5493 - val_CER: 0.0173 - val_WER: 0.0865 - lr: 6.5610e-04\n",
      "Epoch 61/1000\n",
      "15/15 [==============================] - ETA: 0s - loss: 0.0746 - CER: 0.0033 - WER: 0.0159\n",
      "Epoch 61: val_CER did not improve from 0.01154\n"
     ]
    },
    {
     "name": "stderr",
     "output_type": "stream",
     "text": [
      "2024-06-22 18:55:25,022 INFO root: Epoch 60; loss: 0.07462901622056961; CER: 0.0036324793472886086; WER: 0.017094017937779427; val_loss: 0.9824645519256592; val_CER: 0.03653845936059952; val_WER: 0.16346153616905212\n"
     ]
    },
    {
     "name": "stdout",
     "output_type": "stream",
     "text": [
      "15/15 [==============================] - 27s 2s/step - loss: 0.0746 - CER: 0.0033 - WER: 0.0159 - val_loss: 0.9825 - val_CER: 0.0365 - val_WER: 0.1635 - lr: 6.5610e-04\n",
      "Epoch 62/1000\n",
      "15/15 [==============================] - ETA: 0s - loss: 0.0500 - CER: 0.0020 - WER: 0.0102\n",
      "Epoch 62: val_CER did not improve from 0.01154\n"
     ]
    },
    {
     "name": "stderr",
     "output_type": "stream",
     "text": [
      "2024-06-22 18:55:51,976 INFO root: Epoch 61; loss: 0.049994006752967834; CER: 0.0021367522422224283; WER: 0.010683760978281498; val_loss: 0.5919445157051086; val_CER: 0.015384615398943424; val_WER: 0.07692307978868484\n"
     ]
    },
    {
     "name": "stdout",
     "output_type": "stream",
     "text": [
      "15/15 [==============================] - 27s 2s/step - loss: 0.0500 - CER: 0.0021 - WER: 0.0103 - val_loss: 0.5919 - val_CER: 0.0154 - val_WER: 0.0769 - lr: 6.5610e-04\n",
      "Epoch 63/1000\n",
      "15/15 [==============================] - ETA: 0s - loss: 0.0552 - CER: 0.0041 - WER: 0.0203\n",
      "Epoch 63: val_CER did not improve from 0.01154\n"
     ]
    },
    {
     "name": "stderr",
     "output_type": "stream",
     "text": [
      "2024-06-22 18:56:19,698 INFO root: Epoch 62; loss: 0.055192288011312485; CER: 0.0034188036806881428; WER: 0.017094017937779427; val_loss: 0.520596981048584; val_CER: 0.01923076994717121; val_WER: 0.08653846383094788\n"
     ]
    },
    {
     "name": "stdout",
     "output_type": "stream",
     "text": [
      "15/15 [==============================] - 28s 2s/step - loss: 0.0552 - CER: 0.0040 - WER: 0.0201 - val_loss: 0.5206 - val_CER: 0.0192 - val_WER: 0.0865 - lr: 6.5610e-04\n",
      "Epoch 64/1000\n",
      "15/15 [==============================] - ETA: 0s - loss: 0.0667 - CER: 0.0041 - WER: 0.0207\n",
      "Epoch 64: val_CER did not improve from 0.01154\n"
     ]
    },
    {
     "name": "stderr",
     "output_type": "stream",
     "text": [
      "2024-06-22 18:56:47,825 INFO root: Epoch 63; loss: 0.06670539826154709; CER: 0.0038461540825664997; WER: 0.01923076994717121; val_loss: 0.6079677939414978; val_CER: 0.017307691276073456; val_WER: 0.07692307978868484\n"
     ]
    },
    {
     "name": "stdout",
     "output_type": "stream",
     "text": [
      "15/15 [==============================] - 28s 2s/step - loss: 0.0667 - CER: 0.0041 - WER: 0.0206 - val_loss: 0.6080 - val_CER: 0.0173 - val_WER: 0.0769 - lr: 6.5610e-04\n",
      "Epoch 65/1000\n",
      "15/15 [==============================] - ETA: 0s - loss: 0.0609 - CER: 0.0032 - WER: 0.0160\n",
      "Epoch 65: val_CER did not improve from 0.01154\n"
     ]
    },
    {
     "name": "stderr",
     "output_type": "stream",
     "text": [
      "2024-06-22 18:57:14,933 INFO root: Epoch 64; loss: 0.06086577847599983; CER: 0.003205128712579608; WER: 0.016025641933083534; val_loss: 0.5464162230491638; val_CER: 0.015384615398943424; val_WER: 0.07692307978868484\n"
     ]
    },
    {
     "name": "stdout",
     "output_type": "stream",
     "text": [
      "15/15 [==============================] - 27s 2s/step - loss: 0.0609 - CER: 0.0032 - WER: 0.0160 - val_loss: 0.5464 - val_CER: 0.0154 - val_WER: 0.0769 - lr: 6.5610e-04\n",
      "Epoch 66/1000\n",
      "15/15 [==============================] - ETA: 0s - loss: 0.0592 - CER: 0.0028 - WER: 0.0140\n",
      "Epoch 66: val_CER did not improve from 0.01154\n"
     ]
    },
    {
     "name": "stderr",
     "output_type": "stream",
     "text": [
      "2024-06-22 18:57:42,058 INFO root: Epoch 65; loss: 0.05919939652085304; CER: 0.002564102876931429; WER: 0.012820512987673283; val_loss: 0.6710944175720215; val_CER: 0.01923076994717121; val_WER: 0.09615384787321091\n"
     ]
    },
    {
     "name": "stdout",
     "output_type": "stream",
     "text": [
      "15/15 [==============================] - 27s 2s/step - loss: 0.0592 - CER: 0.0028 - WER: 0.0139 - val_loss: 0.6711 - val_CER: 0.0192 - val_WER: 0.0962 - lr: 6.5610e-04\n",
      "Epoch 67/1000\n",
      "15/15 [==============================] - ETA: 0s - loss: 0.0954 - CER: 0.0066 - WER: 0.0327\n",
      "Epoch 67: val_CER did not improve from 0.01154\n"
     ]
    },
    {
     "name": "stderr",
     "output_type": "stream",
     "text": [
      "2024-06-22 18:58:09,349 INFO root: Epoch 66; loss: 0.0954207330942154; CER: 0.0055555556900799274; WER: 0.026709401980042458; val_loss: 0.5804555416107178; val_CER: 0.017307691276073456; val_WER: 0.08653846383094788\n"
     ]
    },
    {
     "name": "stdout",
     "output_type": "stream",
     "text": [
      "15/15 [==============================] - 27s 2s/step - loss: 0.0954 - CER: 0.0065 - WER: 0.0323 - val_loss: 0.5805 - val_CER: 0.0173 - val_WER: 0.0865 - lr: 6.5610e-04\n",
      "Epoch 68/1000\n",
      "15/15 [==============================] - ETA: 0s - loss: 0.0588 - CER: 0.0024 - WER: 0.0098\n",
      "Epoch 68: val_CER did not improve from 0.01154\n"
     ]
    },
    {
     "name": "stderr",
     "output_type": "stream",
     "text": [
      "2024-06-22 18:58:37,811 INFO root: Epoch 67; loss: 0.05883712321519852; CER: 0.0027777778450399637; WER: 0.012820512987673283; val_loss: 0.6252859830856323; val_CER: 0.01923076994717121; val_WER: 0.08653846383094788\n"
     ]
    },
    {
     "name": "stdout",
     "output_type": "stream",
     "text": [
      "15/15 [==============================] - 28s 2s/step - loss: 0.0588 - CER: 0.0024 - WER: 0.0100 - val_loss: 0.6253 - val_CER: 0.0192 - val_WER: 0.0865 - lr: 6.5610e-04\n",
      "Epoch 69/1000\n",
      "15/15 [==============================] - ETA: 0s - loss: 0.0656 - CER: 0.0039 - WER: 0.0196\n",
      "Epoch 69: val_CER did not improve from 0.01154\n"
     ]
    },
    {
     "name": "stderr",
     "output_type": "stream",
     "text": [
      "2024-06-22 18:59:04,586 INFO root: Epoch 68; loss: 0.06557855755090714; CER: 0.004273504950106144; WER: 0.021367521956562996; val_loss: 0.7013973593711853; val_CER: 0.023076923564076424; val_WER: 0.10576923191547394\n"
     ]
    },
    {
     "name": "stdout",
     "output_type": "stream",
     "text": [
      "\n",
      "Epoch 69: ReduceLROnPlateau reducing learning rate to 0.0005904900433961303.\n",
      "15/15 [==============================] - 27s 2s/step - loss: 0.0656 - CER: 0.0039 - WER: 0.0197 - val_loss: 0.7014 - val_CER: 0.0231 - val_WER: 0.1058 - lr: 6.5610e-04\n",
      "Epoch 70/1000\n",
      "15/15 [==============================] - ETA: 0s - loss: 0.0538 - CER: 0.0020 - WER: 0.0102\n",
      "Epoch 70: val_CER did not improve from 0.01154\n"
     ]
    },
    {
     "name": "stderr",
     "output_type": "stream",
     "text": [
      "2024-06-22 18:59:31,406 INFO root: Epoch 69; loss: 0.053790926933288574; CER: 0.002350427443161607; WER: 0.01175213698297739; val_loss: 0.5269823670387268; val_CER: 0.017307691276073456; val_WER: 0.07692307978868484\n"
     ]
    },
    {
     "name": "stdout",
     "output_type": "stream",
     "text": [
      "15/15 [==============================] - 27s 2s/step - loss: 0.0538 - CER: 0.0021 - WER: 0.0103 - val_loss: 0.5270 - val_CER: 0.0173 - val_WER: 0.0769 - lr: 5.9049e-04\n",
      "Epoch 71/1000\n",
      "15/15 [==============================] - ETA: 0s - loss: 0.0532 - CER: 0.0020 - WER: 0.0100\n",
      "Epoch 71: val_CER did not improve from 0.01154\n"
     ]
    },
    {
     "name": "stderr",
     "output_type": "stream",
     "text": [
      "2024-06-22 18:59:59,067 INFO root: Epoch 70; loss: 0.05323752388358116; CER: 0.0025641026441007853; WER: 0.012820512987673283; val_loss: 0.6268416047096252; val_CER: 0.015384615398943424; val_WER: 0.06730769574642181\n"
     ]
    },
    {
     "name": "stdout",
     "output_type": "stream",
     "text": [
      "15/15 [==============================] - 28s 2s/step - loss: 0.0532 - CER: 0.0020 - WER: 0.0102 - val_loss: 0.6268 - val_CER: 0.0154 - val_WER: 0.0673 - lr: 5.9049e-04\n",
      "Epoch 72/1000\n",
      "15/15 [==============================] - ETA: 0s - loss: 0.0612 - CER: 0.0019 - WER: 0.0096\n",
      "Epoch 72: val_CER did not improve from 0.01154\n"
     ]
    },
    {
     "name": "stderr",
     "output_type": "stream",
     "text": [
      "2024-06-22 19:00:27,259 INFO root: Epoch 71; loss: 0.06122641637921333; CER: 0.0027777778450399637; WER: 0.013888888992369175; val_loss: 0.7292276620864868; val_CER: 0.017307691276073456; val_WER: 0.07692307978868484\n"
     ]
    },
    {
     "name": "stdout",
     "output_type": "stream",
     "text": [
      "15/15 [==============================] - 28s 2s/step - loss: 0.0612 - CER: 0.0020 - WER: 0.0099 - val_loss: 0.7292 - val_CER: 0.0173 - val_WER: 0.0769 - lr: 5.9049e-04\n",
      "Epoch 73/1000\n",
      "15/15 [==============================] - ETA: 0s - loss: 0.0607 - CER: 0.0046 - WER: 0.0230\n",
      "Epoch 73: val_CER did not improve from 0.01154\n"
     ]
    },
    {
     "name": "stderr",
     "output_type": "stream",
     "text": [
      "2024-06-22 19:00:54,052 INFO root: Epoch 72; loss: 0.0607309564948082; CER: 0.0034188036806881428; WER: 0.017094017937779427; val_loss: 0.6472571492195129; val_CER: 0.017307691276073456; val_WER: 0.07692307978868484\n"
     ]
    },
    {
     "name": "stdout",
     "output_type": "stream",
     "text": [
      "15/15 [==============================] - 27s 2s/step - loss: 0.0607 - CER: 0.0045 - WER: 0.0226 - val_loss: 0.6473 - val_CER: 0.0173 - val_WER: 0.0769 - lr: 5.9049e-04\n",
      "Epoch 74/1000\n",
      "15/15 [==============================] - ETA: 0s - loss: 0.0502 - CER: 0.0023 - WER: 0.0114\n",
      "Epoch 74: val_CER did not improve from 0.01154\n"
     ]
    },
    {
     "name": "stderr",
     "output_type": "stream",
     "text": [
      "2024-06-22 19:01:20,790 INFO root: Epoch 73; loss: 0.05016940087080002; CER: 0.002991453278809786; WER: 0.014957264997065067; val_loss: 0.8787082433700562; val_CER: 0.023076923564076424; val_WER: 0.09615384787321091\n"
     ]
    },
    {
     "name": "stdout",
     "output_type": "stream",
     "text": [
      "15/15 [==============================] - 27s 2s/step - loss: 0.0502 - CER: 0.0023 - WER: 0.0116 - val_loss: 0.8787 - val_CER: 0.0231 - val_WER: 0.0962 - lr: 5.9049e-04\n",
      "Epoch 75/1000\n",
      "15/15 [==============================] - ETA: 0s - loss: 0.0789 - CER: 0.0040 - WER: 0.0200\n",
      "Epoch 75: val_CER did not improve from 0.01154\n"
     ]
    },
    {
     "name": "stderr",
     "output_type": "stream",
     "text": [
      "2024-06-22 19:01:49,054 INFO root: Epoch 74; loss: 0.07892922312021255; CER: 0.003846154548227787; WER: 0.01923076994717121; val_loss: 0.5127558708190918; val_CER: 0.015384615398943424; val_WER: 0.06730769574642181\n"
     ]
    },
    {
     "name": "stdout",
     "output_type": "stream",
     "text": [
      "15/15 [==============================] - 28s 2s/step - loss: 0.0789 - CER: 0.0040 - WER: 0.0199 - val_loss: 0.5128 - val_CER: 0.0154 - val_WER: 0.0673 - lr: 5.9049e-04\n",
      "Epoch 76/1000\n",
      "15/15 [==============================] - ETA: 0s - loss: 0.0530 - CER: 0.0036 - WER: 0.0178\n",
      "Epoch 76: val_CER did not improve from 0.01154\n"
     ]
    },
    {
     "name": "stderr",
     "output_type": "stream",
     "text": [
      "2024-06-22 19:02:16,848 INFO root: Epoch 75; loss: 0.053037818521261215; CER: 0.0025641026441007853; WER: 0.012820512987673283; val_loss: 0.9083322882652283; val_CER: 0.028846153989434242; val_WER: 0.125\n"
     ]
    },
    {
     "name": "stdout",
     "output_type": "stream",
     "text": [
      "15/15 [==============================] - 28s 2s/step - loss: 0.0530 - CER: 0.0035 - WER: 0.0175 - val_loss: 0.9083 - val_CER: 0.0288 - val_WER: 0.1250 - lr: 5.9049e-04\n",
      "Epoch 77/1000\n",
      "15/15 [==============================] - ETA: 0s - loss: 0.0478 - CER: 0.0034 - WER: 0.0170\n",
      "Epoch 77: val_CER did not improve from 0.01154\n"
     ]
    },
    {
     "name": "stderr",
     "output_type": "stream",
     "text": [
      "2024-06-22 19:02:43,422 INFO root: Epoch 76; loss: 0.047803059220314026; CER: 0.002991453278809786; WER: 0.014957264997065067; val_loss: 0.5088328719139099; val_CER: 0.015384615398943424; val_WER: 0.06730769574642181\n"
     ]
    },
    {
     "name": "stdout",
     "output_type": "stream",
     "text": [
      "15/15 [==============================] - 27s 2s/step - loss: 0.0478 - CER: 0.0034 - WER: 0.0169 - val_loss: 0.5088 - val_CER: 0.0154 - val_WER: 0.0673 - lr: 5.9049e-04\n",
      "Epoch 78/1000\n",
      "15/15 [==============================] - ETA: 0s - loss: 0.0475 - CER: 0.0023 - WER: 0.0116\n",
      "Epoch 78: val_CER did not improve from 0.01154\n"
     ]
    },
    {
     "name": "stderr",
     "output_type": "stream",
     "text": [
      "2024-06-22 19:03:10,514 INFO root: Epoch 77; loss: 0.047484543174505234; CER: 0.0027777778450399637; WER: 0.013888888992369175; val_loss: 0.6169126033782959; val_CER: 0.017307693138718605; val_WER: 0.07692307978868484\n"
     ]
    },
    {
     "name": "stdout",
     "output_type": "stream",
     "text": [
      "15/15 [==============================] - 27s 2s/step - loss: 0.0475 - CER: 0.0024 - WER: 0.0118 - val_loss: 0.6169 - val_CER: 0.0173 - val_WER: 0.0769 - lr: 5.9049e-04\n",
      "Epoch 79/1000\n",
      "15/15 [==============================] - ETA: 0s - loss: 0.0443 - CER: 6.7386e-04 - WER: 0.0034\n",
      "Epoch 79: val_CER did not improve from 0.01154\n"
     ]
    },
    {
     "name": "stderr",
     "output_type": "stream",
     "text": [
      "2024-06-22 19:03:39,004 INFO root: Epoch 78; loss: 0.04434314742684364; CER: 0.0017094017239287496; WER: 0.008547008968889713; val_loss: 0.5780029296875; val_CER: 0.015384615398943424; val_WER: 0.06730769574642181\n"
     ]
    },
    {
     "name": "stdout",
     "output_type": "stream",
     "text": [
      "15/15 [==============================] - 28s 2s/step - loss: 0.0443 - CER: 7.3858e-04 - WER: 0.0037 - val_loss: 0.5780 - val_CER: 0.0154 - val_WER: 0.0673 - lr: 5.9049e-04\n",
      "Epoch 80/1000\n",
      "15/15 [==============================] - ETA: 0s - loss: 0.0330 - CER: 0.0020 - WER: 0.0084\n",
      "Epoch 80: val_CER did not improve from 0.01154\n"
     ]
    },
    {
     "name": "stderr",
     "output_type": "stream",
     "text": [
      "2024-06-22 19:04:05,911 INFO root: Epoch 79; loss: 0.03298556059598923; CER: 0.0019230770412832499; WER: 0.008547008968889713; val_loss: 0.67087322473526; val_CER: 0.017307693138718605; val_WER: 0.07692307978868484\n"
     ]
    },
    {
     "name": "stdout",
     "output_type": "stream",
     "text": [
      "15/15 [==============================] - 27s 2s/step - loss: 0.0330 - CER: 0.0020 - WER: 0.0084 - val_loss: 0.6709 - val_CER: 0.0173 - val_WER: 0.0769 - lr: 5.9049e-04\n",
      "Epoch 81/1000\n",
      "15/15 [==============================] - ETA: 0s - loss: 0.0365 - CER: 0.0018 - WER: 0.0092\n",
      "Epoch 81: val_CER did not improve from 0.01154\n"
     ]
    },
    {
     "name": "stderr",
     "output_type": "stream",
     "text": [
      "2024-06-22 19:04:34,327 INFO root: Epoch 80; loss: 0.03654182329773903; CER: 0.0010683761211112142; WER: 0.005341880489140749; val_loss: 0.5164660215377808; val_CER: 0.017307691276073456; val_WER: 0.07692307978868484\n"
     ]
    },
    {
     "name": "stdout",
     "output_type": "stream",
     "text": [
      "15/15 [==============================] - 28s 2s/step - loss: 0.0365 - CER: 0.0018 - WER: 0.0089 - val_loss: 0.5165 - val_CER: 0.0173 - val_WER: 0.0769 - lr: 5.9049e-04\n",
      "Epoch 82/1000\n",
      "15/15 [==============================] - ETA: 0s - loss: 0.0353 - CER: 0.0022 - WER: 0.0111\n",
      "Epoch 82: val_CER did not improve from 0.01154\n"
     ]
    },
    {
     "name": "stderr",
     "output_type": "stream",
     "text": [
      "2024-06-22 19:05:06,933 INFO root: Epoch 81; loss: 0.03528476506471634; CER: 0.0023504276759922504; WER: 0.01175213698297739; val_loss: 0.5053779482841492; val_CER: 0.015384615398943424; val_WER: 0.06730769574642181\n"
     ]
    },
    {
     "name": "stdout",
     "output_type": "stream",
     "text": [
      "15/15 [==============================] - 33s 2s/step - loss: 0.0353 - CER: 0.0022 - WER: 0.0111 - val_loss: 0.5054 - val_CER: 0.0154 - val_WER: 0.0673 - lr: 5.9049e-04\n",
      "Epoch 83/1000\n",
      "15/15 [==============================] - ETA: 0s - loss: 0.0439 - CER: 0.0023 - WER: 0.0115\n",
      "Epoch 83: val_CER did not improve from 0.01154\n"
     ]
    },
    {
     "name": "stderr",
     "output_type": "stream",
     "text": [
      "2024-06-22 19:05:36,550 INFO root: Epoch 82; loss: 0.04385761916637421; CER: 0.002350427443161607; WER: 0.01175213698297739; val_loss: 0.6125708818435669; val_CER: 0.013461538590490818; val_WER: 0.057692307978868484\n"
     ]
    },
    {
     "name": "stdout",
     "output_type": "stream",
     "text": [
      "15/15 [==============================] - 30s 2s/step - loss: 0.0439 - CER: 0.0023 - WER: 0.0116 - val_loss: 0.6126 - val_CER: 0.0135 - val_WER: 0.0577 - lr: 5.9049e-04\n",
      "Epoch 84/1000\n",
      "15/15 [==============================] - ETA: 0s - loss: 0.0439 - CER: 0.0013 - WER: 0.0064  \n",
      "Epoch 84: val_CER did not improve from 0.01154\n"
     ]
    },
    {
     "name": "stderr",
     "output_type": "stream",
     "text": [
      "2024-06-22 19:06:03,827 INFO root: Epoch 83; loss: 0.04392531141638756; CER: 0.0025641026441007853; WER: 0.012820512987673283; val_loss: 0.7058864831924438; val_CER: 0.01923076994717121; val_WER: 0.08653846383094788\n"
     ]
    },
    {
     "name": "stdout",
     "output_type": "stream",
     "text": [
      "15/15 [==============================] - 27s 2s/step - loss: 0.0439 - CER: 0.0014 - WER: 0.0068 - val_loss: 0.7059 - val_CER: 0.0192 - val_WER: 0.0865 - lr: 5.9049e-04\n",
      "Epoch 85/1000\n",
      "15/15 [==============================] - ETA: 0s - loss: 0.0442 - CER: 0.0022 - WER: 0.0111\n",
      "Epoch 85: val_CER did not improve from 0.01154\n"
     ]
    },
    {
     "name": "stderr",
     "output_type": "stream",
     "text": [
      "2024-06-22 19:06:32,160 INFO root: Epoch 84; loss: 0.04423817619681358; CER: 0.002136752475053072; WER: 0.010683760978281498; val_loss: 0.7175381183624268; val_CER: 0.021153846755623817; val_WER: 0.09615384787321091\n"
     ]
    },
    {
     "name": "stdout",
     "output_type": "stream",
     "text": [
      "15/15 [==============================] - 28s 2s/step - loss: 0.0442 - CER: 0.0022 - WER: 0.0111 - val_loss: 0.7175 - val_CER: 0.0212 - val_WER: 0.0962 - lr: 5.9049e-04\n",
      "Epoch 86/1000\n",
      "15/15 [==============================] - ETA: 0s - loss: 0.0567 - CER: 0.0034 - WER: 0.0169\n",
      "Epoch 86: val_CER did not improve from 0.01154\n"
     ]
    },
    {
     "name": "stderr",
     "output_type": "stream",
     "text": [
      "2024-06-22 19:06:59,607 INFO root: Epoch 85; loss: 0.056673288345336914; CER: 0.0036324786487966776; WER: 0.01816239394247532; val_loss: 0.5389046669006348; val_CER: 0.017307691276073456; val_WER: 0.07692307978868484\n"
     ]
    },
    {
     "name": "stdout",
     "output_type": "stream",
     "text": [
      "15/15 [==============================] - 27s 2s/step - loss: 0.0567 - CER: 0.0034 - WER: 0.0170 - val_loss: 0.5389 - val_CER: 0.0173 - val_WER: 0.0769 - lr: 5.9049e-04\n",
      "Epoch 87/1000\n",
      "15/15 [==============================] - ETA: 0s - loss: 0.0352 - CER: 7.8875e-04 - WER: 0.0039\n",
      "Epoch 87: val_CER did not improve from 0.01154\n"
     ]
    },
    {
     "name": "stderr",
     "output_type": "stream",
     "text": [
      "2024-06-22 19:07:26,416 INFO root: Epoch 86; loss: 0.03517111390829086; CER: 0.0010683761211112142; WER: 0.005341880489140749; val_loss: 0.6661665439605713; val_CER: 0.017307693138718605; val_WER: 0.07692307978868484\n"
     ]
    },
    {
     "name": "stdout",
     "output_type": "stream",
     "text": [
      "15/15 [==============================] - 27s 2s/step - loss: 0.0352 - CER: 8.0623e-04 - WER: 0.0040 - val_loss: 0.6662 - val_CER: 0.0173 - val_WER: 0.0769 - lr: 5.9049e-04\n",
      "Epoch 88/1000\n",
      "15/15 [==============================] - ETA: 0s - loss: 0.0434 - CER: 0.0023 - WER: 0.0113\n",
      "Epoch 88: val_CER did not improve from 0.01154\n"
     ]
    },
    {
     "name": "stderr",
     "output_type": "stream",
     "text": [
      "2024-06-22 19:07:53,907 INFO root: Epoch 87; loss: 0.043394893407821655; CER: 0.003205128712579608; WER: 0.016025641933083534; val_loss: 0.4894173741340637; val_CER: 0.017307691276073456; val_WER: 0.07692307978868484\n"
     ]
    },
    {
     "name": "stdout",
     "output_type": "stream",
     "text": [
      "15/15 [==============================] - 27s 2s/step - loss: 0.0434 - CER: 0.0023 - WER: 0.0115 - val_loss: 0.4894 - val_CER: 0.0173 - val_WER: 0.0769 - lr: 5.9049e-04\n",
      "Epoch 89/1000\n",
      "15/15 [==============================] - ETA: 0s - loss: 0.0460 - CER: 0.0020 - WER: 0.0102\n",
      "Epoch 89: val_CER did not improve from 0.01154\n"
     ]
    },
    {
     "name": "stderr",
     "output_type": "stream",
     "text": [
      "2024-06-22 19:08:22,279 INFO root: Epoch 88; loss: 0.0459783673286438; CER: 0.002136752475053072; WER: 0.010683760978281498; val_loss: 0.6325829029083252; val_CER: 0.015384615398943424; val_WER: 0.06730769574642181\n"
     ]
    },
    {
     "name": "stdout",
     "output_type": "stream",
     "text": [
      "\n",
      "Epoch 89: ReduceLROnPlateau reducing learning rate to 0.0005314410547725857.\n",
      "15/15 [==============================] - 28s 2s/step - loss: 0.0460 - CER: 0.0021 - WER: 0.0103 - val_loss: 0.6326 - val_CER: 0.0154 - val_WER: 0.0673 - lr: 5.9049e-04\n",
      "Epoch 89: early stopping\n"
     ]
    },
    {
     "name": "stderr",
     "output_type": "stream",
     "text": [
      "2024-06-22 19:08:23,950 INFO tf2onnx.tfonnx: Using tensorflow=2.10.1, onnx=1.12.0, tf2onnx=1.14.0/8f8d49\n",
      "2024-06-22 19:08:23,950 INFO tf2onnx.tfonnx: Using opset <onnx, 15>\n",
      "2024-06-22 19:08:24,088 INFO tf2onnx.tf_utils: Computed 0 values for constant folding\n",
      "2024-06-22 19:08:24,096 INFO tf2onnx.tf_utils: Computed 0 values for constant folding\n",
      "2024-06-22 19:08:24,099 INFO tf2onnx.tf_utils: Computed 0 values for constant folding\n",
      "2024-06-22 19:08:24,102 INFO tf2onnx.tf_utils: Computed 0 values for constant folding\n",
      "2024-06-22 19:08:24,152 INFO tf2onnx.tf_utils: Computed 2 values for constant folding\n",
      "2024-06-22 19:08:24,235 INFO tf2onnx.tfonnx: folding node using tf type=StridedSlice, name=model_1/bidirectional_1/forward_lstm_1/PartitionedCall/strided_slice\n",
      "2024-06-22 19:08:24,236 INFO tf2onnx.tfonnx: folding node using tf type=StridedSlice, name=model_1/bidirectional_1/backward_lstm_1/PartitionedCall/strided_slice\n",
      "2024-06-22 19:08:24,395 INFO tf2onnx.optimizer: Optimizing ONNX model\n",
      "2024-06-22 19:08:24,872 INFO tf2onnx.optimizer: After optimization: BatchNormalization -18 (18->0), Cast -4 (11->7), Concat -4 (10->6), Const -128 (194->66), Expand -3 (4->1), Gather +2 (2->4), Identity -2 (2->0), Shape -1 (4->3), Slice -1 (5->4), Squeeze -3 (5->2), Transpose -83 (87->4), Unsqueeze -14 (17->3)\n"
     ]
    },
    {
     "data": {
      "text/plain": [
       "<keras.callbacks.History at 0x1ce5876b520>"
      ]
     },
     "execution_count": 23,
     "metadata": {},
     "output_type": "execute_result"
    }
   ],
   "source": [
    "model.fit(\n",
    "    train_data_provider,\n",
    "    validation_data=val_data_provider,\n",
    "    epochs=configs.train_epochs,\n",
    "    callbacks=[earlystopper, checkpoint, trainLogger, reduceLROnPlat, tb_callback, model2onnx],\n",
    "    workers=configs.train_workers\n",
    ")\n"
   ]
  },
  {
   "cell_type": "code",
   "execution_count": null,
   "metadata": {},
   "outputs": [],
   "source": []
  },
  {
   "cell_type": "code",
   "execution_count": 24,
   "metadata": {},
   "outputs": [],
   "source": [
    "train_data_provider.to_csv(stow.join(configs.model_path,'train.csv'))\n",
    "val_data_provider.to_csv(stow.join(configs.model_path,'val.csv'))"
   ]
  },
  {
   "cell_type": "code",
   "execution_count": null,
   "metadata": {},
   "outputs": [],
   "source": []
  }
 ],
 "metadata": {
  "kernelspec": {
   "display_name": "Python 3",
   "language": "python",
   "name": "python3"
  },
  "language_info": {
   "codemirror_mode": {
    "name": "ipython",
    "version": 3
   },
   "file_extension": ".py",
   "mimetype": "text/x-python",
   "name": "python",
   "nbconvert_exporter": "python",
   "pygments_lexer": "ipython3",
   "version": "3.10.11"
  }
 },
 "nbformat": 4,
 "nbformat_minor": 2
}
